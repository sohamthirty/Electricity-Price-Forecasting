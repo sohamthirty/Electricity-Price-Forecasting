{
 "cells": [
  {
   "cell_type": "code",
   "execution_count": 1,
   "id": "895bd419",
   "metadata": {
    "ExecuteTime": {
     "end_time": "2023-07-25T04:29:54.967524Z",
     "start_time": "2023-07-25T04:29:53.971674Z"
    }
   },
   "outputs": [],
   "source": [
    "import pandas as pd\n",
    "import numpy as np\n",
    "import matplotlib.pyplot as plt\n",
    "import seaborn as sns"
   ]
  },
  {
   "cell_type": "markdown",
   "id": "a783c049",
   "metadata": {},
   "source": [
    "# Load the Data"
   ]
  },
  {
   "cell_type": "code",
   "execution_count": 2,
   "id": "98cd6674",
   "metadata": {
    "ExecuteTime": {
     "end_time": "2023-07-25T04:29:55.620002Z",
     "start_time": "2023-07-25T04:29:54.967524Z"
    }
   },
   "outputs": [],
   "source": [
    "# load the data\n",
    "df_energy = pd.read_csv('data/df_energy_processed.csv')\n",
    "df_weather = pd.read_csv('data/df_weather_processed.csv')\n",
    "df = pd.read_csv('data/df.csv')"
   ]
  },
  {
   "cell_type": "code",
   "execution_count": 3,
   "id": "4eaab101",
   "metadata": {
    "ExecuteTime": {
     "end_time": "2023-07-25T04:29:55.874024Z",
     "start_time": "2023-07-25T04:29:55.620002Z"
    }
   },
   "outputs": [],
   "source": [
    "# Convert the column from string to datetime\n",
    "df['time'] = pd.to_datetime(df['time'], utc=True) # datetime values that are explicitly in UTC\n",
    "\n",
    "#Set timeframe data for easier accessing\n",
    "df[\"year\"]= df['time'].dt.year\n",
    "df[\"month\"]= df['time'].dt.month_name()\n",
    "df[\"day\"] = df['time'].dt.day_name()\n",
    "df['hour'] = df['time'].dt.hour"
   ]
  },
  {
   "cell_type": "code",
   "execution_count": 4,
   "id": "2c555c65",
   "metadata": {
    "ExecuteTime": {
     "end_time": "2023-07-25T04:29:55.882664Z",
     "start_time": "2023-07-25T04:29:55.874024Z"
    }
   },
   "outputs": [
    {
     "data": {
      "text/plain": [
       "Index(['time', 'generation biomass', 'generation fossil brown coal/lignite',\n",
       "       'generation fossil gas', 'generation fossil hard coal',\n",
       "       'generation fossil oil', 'generation hydro pumped storage consumption',\n",
       "       'generation hydro run-of-river and poundage',\n",
       "       'generation hydro water reservoir', 'generation nuclear',\n",
       "       'generation other', 'generation other renewable', 'generation solar',\n",
       "       'generation waste', 'generation wind onshore',\n",
       "       'forecast solar day ahead', 'forecast wind onshore day ahead',\n",
       "       'total load forecast', 'total load actual', 'price day ahead',\n",
       "       'price actual', 'city_name', 'temp', 'temp_min', 'temp_max', 'pressure',\n",
       "       'humidity', 'wind_speed', 'wind_deg', 'clouds_all', 'weather_id',\n",
       "       'weather_main', 'weather_description', 'year', 'month', 'day', 'hour'],\n",
       "      dtype='object')"
      ]
     },
     "execution_count": 4,
     "metadata": {},
     "output_type": "execute_result"
    }
   ],
   "source": [
    "df.columns"
   ]
  },
  {
   "cell_type": "code",
   "execution_count": 5,
   "id": "d15a55dc",
   "metadata": {
    "ExecuteTime": {
     "end_time": "2023-07-25T04:29:55.913159Z",
     "start_time": "2023-07-25T04:29:55.884137Z"
    }
   },
   "outputs": [],
   "source": [
    "df.drop(columns=['weather_id', 'time', 'forecast solar day ahead', 'forecast wind onshore day ahead', 'price day ahead'], inplace=True)"
   ]
  },
  {
   "cell_type": "code",
   "execution_count": 6,
   "id": "d0bb954c",
   "metadata": {
    "ExecuteTime": {
     "end_time": "2023-07-25T04:29:55.932567Z",
     "start_time": "2023-07-25T04:29:55.914913Z"
    }
   },
   "outputs": [
    {
     "name": "stdout",
     "output_type": "stream",
     "text": [
      "<bound method NDFrame.head of         generation biomass  generation fossil brown coal/lignite  \\\n",
      "0                    449.0                                 328.0   \n",
      "1                    449.0                                 328.0   \n",
      "2                    449.0                                 328.0   \n",
      "3                    449.0                                 328.0   \n",
      "4                    449.0                                 328.0   \n",
      "...                    ...                                   ...   \n",
      "175080               290.0                                   0.0   \n",
      "175081               290.0                                   0.0   \n",
      "175082               290.0                                   0.0   \n",
      "175083               290.0                                   0.0   \n",
      "175084               290.0                                   0.0   \n",
      "\n",
      "        generation fossil gas  generation fossil hard coal  \\\n",
      "0                      5196.0                       4755.0   \n",
      "1                      5196.0                       4755.0   \n",
      "2                      5196.0                       4755.0   \n",
      "3                      5196.0                       4755.0   \n",
      "4                      5196.0                       4755.0   \n",
      "...                       ...                          ...   \n",
      "175080                 6926.0                       2166.0   \n",
      "175081                 6926.0                       2166.0   \n",
      "175082                 6926.0                       2166.0   \n",
      "175083                 6926.0                       2166.0   \n",
      "175084                 6926.0                       2166.0   \n",
      "\n",
      "        generation fossil oil  generation hydro pumped storage consumption  \\\n",
      "0                       158.0                                        920.0   \n",
      "1                       158.0                                        920.0   \n",
      "2                       158.0                                        920.0   \n",
      "3                       158.0                                        920.0   \n",
      "4                       158.0                                        920.0   \n",
      "...                       ...                                          ...   \n",
      "175080                  163.0                                        108.0   \n",
      "175081                  163.0                                        108.0   \n",
      "175082                  163.0                                        108.0   \n",
      "175083                  163.0                                        108.0   \n",
      "175084                  163.0                                        108.0   \n",
      "\n",
      "        generation hydro run-of-river and poundage  \\\n",
      "0                                           1009.0   \n",
      "1                                           1009.0   \n",
      "2                                           1009.0   \n",
      "3                                           1009.0   \n",
      "4                                           1009.0   \n",
      "...                                            ...   \n",
      "175080                                      1069.0   \n",
      "175081                                      1069.0   \n",
      "175082                                      1069.0   \n",
      "175083                                      1069.0   \n",
      "175084                                      1069.0   \n",
      "\n",
      "        generation hydro water reservoir  generation nuclear  \\\n",
      "0                                 1658.0              7096.0   \n",
      "1                                 1658.0              7096.0   \n",
      "2                                 1658.0              7096.0   \n",
      "3                                 1658.0              7096.0   \n",
      "4                                 1658.0              7096.0   \n",
      "...                                  ...                 ...   \n",
      "175080                            1686.0              6075.0   \n",
      "175081                            1686.0              6075.0   \n",
      "175082                            1686.0              6075.0   \n",
      "175083                            1686.0              6075.0   \n",
      "175084                            1686.0              6075.0   \n",
      "\n",
      "        generation other  generation other renewable  generation solar  \\\n",
      "0                   43.0                        71.0              50.0   \n",
      "1                   43.0                        71.0              50.0   \n",
      "2                   43.0                        71.0              50.0   \n",
      "3                   43.0                        71.0              50.0   \n",
      "4                   43.0                        71.0              50.0   \n",
      "...                  ...                         ...               ...   \n",
      "175080              61.0                        92.0              31.0   \n",
      "175081              61.0                        92.0              31.0   \n",
      "175082              61.0                        92.0              31.0   \n",
      "175083              61.0                        92.0              31.0   \n",
      "175084              61.0                        92.0              31.0   \n",
      "\n",
      "        generation waste  generation wind onshore  total load forecast  \\\n",
      "0                  195.0                   5890.0              24934.0   \n",
      "1                  195.0                   5890.0              24934.0   \n",
      "2                  195.0                   5890.0              24934.0   \n",
      "3                  195.0                   5890.0              24934.0   \n",
      "4                  195.0                   5890.0              24934.0   \n",
      "...                  ...                      ...                  ...   \n",
      "175080             287.0                   3651.0              24424.0   \n",
      "175081             287.0                   3651.0              24424.0   \n",
      "175082             287.0                   3651.0              24424.0   \n",
      "175083             287.0                   3651.0              24424.0   \n",
      "175084             287.0                   3651.0              24424.0   \n",
      "\n",
      "        total load actual  price actual  city_name      temp  temp_min  \\\n",
      "0                 24382.0         64.92   Valencia  270.4750  270.4750   \n",
      "1                 24382.0         64.92     Madrid  267.3250  267.3250   \n",
      "2                 24382.0         64.92     Bilbao  269.7635  269.7635   \n",
      "3                 24382.0         64.92  Barcelona  281.6250  281.6250   \n",
      "4                 24382.0         64.92    Seville  273.3750  273.3750   \n",
      "...                   ...           ...        ...       ...       ...   \n",
      "175080            24455.0         69.88   Valencia  279.1400  278.1500   \n",
      "175081            24455.0         69.88     Madrid  275.1500  275.1500   \n",
      "175082            24455.0         69.88     Bilbao  275.6000  275.1500   \n",
      "175083            24455.0         69.88  Barcelona  280.1300  277.1500   \n",
      "175084            24455.0         69.88    Seville  283.9700  282.1500   \n",
      "\n",
      "        temp_max  pressure  humidity  wind_speed  wind_deg  clouds_all  \\\n",
      "0       270.4750      1001        77           1        62           0   \n",
      "1       267.3250       971        63           1       309           0   \n",
      "2       269.7635      1035        97           0       229           0   \n",
      "3       281.6250      1035       100           7        58           0   \n",
      "4       273.3750      1039        75           1        21           0   \n",
      "...          ...       ...       ...         ...       ...         ...   \n",
      "175080  280.1500      1029        75           2       300           0   \n",
      "175081  275.1500      1031        74           1       360           0   \n",
      "175082  276.1500      1034        93           2       100           0   \n",
      "175083  283.1500      1028       100           5       310           0   \n",
      "175084  285.1500      1029        70           3        50           0   \n",
      "\n",
      "       weather_main weather_description  year     month       day  hour  \n",
      "0             clear        sky is clear  2015   January  Thursday     0  \n",
      "1             clear        sky is clear  2015   January  Thursday     0  \n",
      "2             clear        sky is clear  2015   January  Thursday     0  \n",
      "3             clear        sky is clear  2015   January  Thursday     0  \n",
      "4             clear        sky is clear  2015   January  Thursday     0  \n",
      "...             ...                 ...   ...       ...       ...   ...  \n",
      "175080        clear        sky is clear  2018  December    Monday    22  \n",
      "175081        clear        sky is clear  2018  December    Monday    22  \n",
      "175082        clear        sky is clear  2018  December    Monday    22  \n",
      "175083        clear        sky is clear  2018  December    Monday    22  \n",
      "175084        clear        sky is clear  2018  December    Monday    22  \n",
      "\n",
      "[175085 rows x 32 columns]>\n"
     ]
    }
   ],
   "source": [
    "pd.set_option('display.max_columns', None) \n",
    "print(df.head)"
   ]
  },
  {
   "cell_type": "markdown",
   "id": "bfa99993",
   "metadata": {},
   "source": [
    "# Encoding Categorical Data"
   ]
  },
  {
   "cell_type": "code",
   "execution_count": 7,
   "id": "ac7c3a3b",
   "metadata": {
    "ExecuteTime": {
     "end_time": "2023-07-25T04:29:56.082094Z",
     "start_time": "2023-07-25T04:29:55.934209Z"
    }
   },
   "outputs": [],
   "source": [
    "categorical_columns = df.select_dtypes(include='object').columns\n",
    "df_encoded = pd.get_dummies(df, columns=categorical_columns)"
   ]
  },
  {
   "cell_type": "code",
   "execution_count": 8,
   "id": "b50ab4d5",
   "metadata": {
    "ExecuteTime": {
     "end_time": "2023-07-25T04:29:56.088058Z",
     "start_time": "2023-07-25T04:29:56.083343Z"
    }
   },
   "outputs": [
    {
     "data": {
      "text/plain": [
       "Index(['city_name', 'weather_main', 'weather_description', 'month', 'day'], dtype='object')"
      ]
     },
     "execution_count": 8,
     "metadata": {},
     "output_type": "execute_result"
    }
   ],
   "source": [
    "categorical_columns"
   ]
  },
  {
   "cell_type": "code",
   "execution_count": 9,
   "id": "0bc1f9fe",
   "metadata": {
    "ExecuteTime": {
     "end_time": "2023-07-25T04:29:56.101798Z",
     "start_time": "2023-07-25T04:29:56.088058Z"
    }
   },
   "outputs": [
    {
     "data": {
      "text/plain": [
       "Index(['generation biomass', 'generation fossil brown coal/lignite',\n",
       "       'generation fossil gas', 'generation fossil hard coal',\n",
       "       'generation fossil oil', 'generation hydro pumped storage consumption',\n",
       "       'generation hydro run-of-river and poundage',\n",
       "       'generation hydro water reservoir', 'generation nuclear',\n",
       "       'generation other',\n",
       "       ...\n",
       "       'month_November', 'month_October', 'month_September', 'day_Friday',\n",
       "       'day_Monday', 'day_Saturday', 'day_Sunday', 'day_Thursday',\n",
       "       'day_Tuesday', 'day_Wednesday'],\n",
       "      dtype='object', length=104)"
      ]
     },
     "execution_count": 9,
     "metadata": {},
     "output_type": "execute_result"
    }
   ],
   "source": [
    "df_encoded.columns"
   ]
  },
  {
   "cell_type": "code",
   "execution_count": 10,
   "id": "27f74964",
   "metadata": {
    "ExecuteTime": {
     "end_time": "2023-07-25T04:29:56.111732Z",
     "start_time": "2023-07-25T04:29:56.101798Z"
    }
   },
   "outputs": [],
   "source": [
    "# Reinsert the target column at the last position\n",
    "column_to_move = df_encoded.pop('price actual')\n",
    "df_encoded['price actual'] = column_to_move"
   ]
  },
  {
   "cell_type": "code",
   "execution_count": 11,
   "id": "e1182db8",
   "metadata": {
    "ExecuteTime": {
     "end_time": "2023-07-25T04:29:56.417822Z",
     "start_time": "2023-07-25T04:29:56.112877Z"
    }
   },
   "outputs": [],
   "source": [
    "X = df_encoded.iloc[:, :-1].values\n",
    "y = df_encoded.iloc[:, -1].values"
   ]
  },
  {
   "cell_type": "markdown",
   "id": "cb30727c",
   "metadata": {},
   "source": [
    "- we have a large no. of columns due to encoding."
   ]
  },
  {
   "cell_type": "markdown",
   "id": "e424424c",
   "metadata": {},
   "source": [
    "# Splitting dataset into Training and Test"
   ]
  },
  {
   "cell_type": "code",
   "execution_count": 12,
   "id": "1c1390f1",
   "metadata": {
    "ExecuteTime": {
     "end_time": "2023-07-25T04:29:56.814338Z",
     "start_time": "2023-07-25T04:29:56.417822Z"
    }
   },
   "outputs": [],
   "source": [
    "from sklearn.model_selection import train_test_split\n",
    "X_train, X_test, y_train, y_test = train_test_split(X, y, test_size = 0.2, random_state = 42)"
   ]
  },
  {
   "cell_type": "markdown",
   "id": "5767574c",
   "metadata": {},
   "source": [
    "# Models"
   ]
  },
  {
   "cell_type": "markdown",
   "id": "f8b91004",
   "metadata": {},
   "source": [
    "## Linear Regression"
   ]
  },
  {
   "cell_type": "code",
   "execution_count": 13,
   "id": "424848fe",
   "metadata": {
    "ExecuteTime": {
     "end_time": "2023-07-25T04:29:58.450864Z",
     "start_time": "2023-07-25T04:29:56.814338Z"
    }
   },
   "outputs": [],
   "source": [
    "from sklearn.linear_model import LinearRegression\n",
    "\n",
    "regressor = LinearRegression()\n",
    "regressor.fit(X_train,y_train)\n",
    "\n",
    "y_pred = regressor.predict(X_test)"
   ]
  },
  {
   "cell_type": "code",
   "execution_count": 14,
   "id": "b0566c11",
   "metadata": {
    "ExecuteTime": {
     "end_time": "2023-07-25T04:29:58.457439Z",
     "start_time": "2023-07-25T04:29:58.451959Z"
    }
   },
   "outputs": [
    {
     "name": "stdout",
     "output_type": "stream",
     "text": [
      "RMSE: 9.782958595914405\n"
     ]
    }
   ],
   "source": [
    "from sklearn.metrics import mean_squared_error\n",
    "\n",
    "mse = mean_squared_error(y_test, y_pred)\n",
    "rmse = np.sqrt(mse)\n",
    "print(\"RMSE:\", rmse)"
   ]
  },
  {
   "cell_type": "markdown",
   "id": "539d54f0",
   "metadata": {},
   "source": [
    "## Polynomial Regression"
   ]
  },
  {
   "cell_type": "code",
   "execution_count": 15,
   "id": "c1ebe0f5",
   "metadata": {
    "ExecuteTime": {
     "end_time": "2023-07-25T04:29:58.465870Z",
     "start_time": "2023-07-25T04:29:58.457439Z"
    }
   },
   "outputs": [],
   "source": [
    "# from sklearn.preprocessing import PolynomialFeatures\n",
    "# poly = PolynomialFeatures(degree=2)\n",
    "# X_train_poly = poly.fit_transform(X_train)\n",
    "# X_test_poly = poly.transform(X_test)\n",
    "\n",
    "# regressor = LinearRegression()\n",
    "# regressor.fit(X_train_poly, y_train)\n",
    "\n",
    "# y_pred = regressor.predict(X_test)\n",
    "\n",
    "# mse = mean_squared_error(y_test, y_pred)\n",
    "# rmse = np.sqrt(mse)\n",
    "# print(\"RMSE:\", rmse)"
   ]
  },
  {
   "cell_type": "markdown",
   "id": "01ebf920",
   "metadata": {},
   "source": [
    "## Ridge & Lasso"
   ]
  },
  {
   "cell_type": "code",
   "execution_count": 25,
   "id": "703e4e0d",
   "metadata": {
    "ExecuteTime": {
     "end_time": "2023-07-25T04:47:03.785285Z",
     "start_time": "2023-07-25T04:46:35.387404Z"
    }
   },
   "outputs": [
    {
     "name": "stdout",
     "output_type": "stream",
     "text": [
      "Ridge Regression RMSE: 9.782953240049638\n",
      "Lasso Regression RMSE: 9.78786311584441\n"
     ]
    }
   ],
   "source": [
    "from sklearn.linear_model import Ridge, Lasso\n",
    "\n",
    "ridge_model = Ridge(alpha=0.05, max_iter=10000)  # You can adjust the alpha (regularization strength) as needed\n",
    "lasso_model = Lasso(alpha=0.01, max_iter=10000)\n",
    "\n",
    "ridge_model.fit(X_train, y_train)\n",
    "lasso_model.fit(X_train, y_train)\n",
    "\n",
    "# predictions\n",
    "ridge_predictions = ridge_model.predict(X_test)\n",
    "lasso_predictions = lasso_model.predict(X_test)\n",
    "\n",
    "#Evaluate\n",
    "ridge_mse = mean_squared_error(y_test, ridge_predictions, squared=False)\n",
    "lasso_mse = mean_squared_error(y_test, lasso_predictions, squared=False)\n",
    "print(\"Ridge Regression RMSE:\", ridge_mse)\n",
    "print(\"Lasso Regression RMSE:\", lasso_mse)"
   ]
  },
  {
   "cell_type": "markdown",
   "id": "704ff013",
   "metadata": {},
   "source": [
    "## Support Vector Regression"
   ]
  },
  {
   "cell_type": "code",
   "execution_count": null,
   "id": "dcada2ba",
   "metadata": {},
   "outputs": [],
   "source": []
  },
  {
   "cell_type": "markdown",
   "id": "bae7de4f",
   "metadata": {},
   "source": [
    "## Decision Tree"
   ]
  },
  {
   "cell_type": "code",
   "execution_count": null,
   "id": "80e5c0e2",
   "metadata": {},
   "outputs": [],
   "source": []
  },
  {
   "cell_type": "markdown",
   "id": "69a829be",
   "metadata": {},
   "source": [
    "## Random Forest"
   ]
  },
  {
   "cell_type": "code",
   "execution_count": 26,
   "id": "5c693201",
   "metadata": {
    "ExecuteTime": {
     "end_time": "2023-07-25T04:54:58.118297Z",
     "start_time": "2023-07-25T04:47:05.541873Z"
    }
   },
   "outputs": [
    {
     "name": "stdout",
     "output_type": "stream",
     "text": [
      "Root Mean Squared Error (RMSE): 0.7312178666884529\n"
     ]
    }
   ],
   "source": [
    "from sklearn.ensemble import RandomForestRegressor\n",
    "\n",
    "# Create and train the RandomForestRegressor model\n",
    "rf_model = RandomForestRegressor(n_estimators=100, random_state=42)\n",
    "rf_model.fit(X_train, y_train)\n",
    "\n",
    "# Make predictions on the test set\n",
    "y_pred = rf_model.predict(X_test)\n",
    "\n",
    "# Evaluate\n",
    "rmse = mean_squared_error(y_test, y_pred, squared=False)\n",
    "\n",
    "print(\"Root Mean Squared Error (RMSE):\", rmse)"
   ]
  }
 ],
 "metadata": {
  "kernelspec": {
   "display_name": "electricity",
   "language": "python",
   "name": "electricity"
  },
  "language_info": {
   "codemirror_mode": {
    "name": "ipython",
    "version": 3
   },
   "file_extension": ".py",
   "mimetype": "text/x-python",
   "name": "python",
   "nbconvert_exporter": "python",
   "pygments_lexer": "ipython3",
   "version": "3.11.4"
  }
 },
 "nbformat": 4,
 "nbformat_minor": 5
}
