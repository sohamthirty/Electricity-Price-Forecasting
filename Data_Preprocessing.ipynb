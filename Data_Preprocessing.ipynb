{
 "cells": [
  {
   "cell_type": "code",
   "execution_count": 77,
   "id": "edb3f174",
   "metadata": {
    "ExecuteTime": {
     "end_time": "2023-07-20T04:25:13.410464Z",
     "start_time": "2023-07-20T04:25:13.407571Z"
    }
   },
   "outputs": [],
   "source": [
    "import pandas as pd\n",
    "import numpy as np\n",
    "import matplotlib.pyplot as plt"
   ]
  },
  {
   "cell_type": "markdown",
   "id": "510932e2",
   "metadata": {},
   "source": [
    "link - https://www.kaggle.com/datasets/nicholasjhana/energy-consumption-generation-prices-and-weather\n"
   ]
  },
  {
   "cell_type": "markdown",
   "id": "e95f4dbc",
   "metadata": {},
   "source": [
    "# Load the data"
   ]
  },
  {
   "cell_type": "code",
   "execution_count": 78,
   "id": "cb025f4a",
   "metadata": {
    "ExecuteTime": {
     "end_time": "2023-07-20T04:25:13.756460Z",
     "start_time": "2023-07-20T04:25:13.412469Z"
    }
   },
   "outputs": [],
   "source": [
    "# load the data\n",
    "df_energy = pd.read_csv('data/energy_dataset.csv')\n",
    "df_weather = pd.read_csv('data/weather_features.csv')"
   ]
  },
  {
   "cell_type": "markdown",
   "id": "a67d53b2",
   "metadata": {},
   "source": [
    "# Inspect the data"
   ]
  },
  {
   "cell_type": "code",
   "execution_count": 79,
   "id": "b0dda730",
   "metadata": {
    "ExecuteTime": {
     "end_time": "2023-07-20T04:25:13.766957Z",
     "start_time": "2023-07-20T04:25:13.757486Z"
    }
   },
   "outputs": [
    {
     "name": "stdout",
     "output_type": "stream",
     "text": [
      "                        time  generation biomass  \\\n",
      "0  2015-01-01 00:00:00+01:00               447.0   \n",
      "1  2015-01-01 01:00:00+01:00               449.0   \n",
      "2  2015-01-01 02:00:00+01:00               448.0   \n",
      "3  2015-01-01 03:00:00+01:00               438.0   \n",
      "4  2015-01-01 04:00:00+01:00               428.0   \n",
      "\n",
      "   generation fossil brown coal/lignite  generation fossil coal-derived gas  \\\n",
      "0                                 329.0                                 0.0   \n",
      "1                                 328.0                                 0.0   \n",
      "2                                 323.0                                 0.0   \n",
      "3                                 254.0                                 0.0   \n",
      "4                                 187.0                                 0.0   \n",
      "\n",
      "   generation fossil gas  generation fossil hard coal  generation fossil oil  \\\n",
      "0                 4844.0                       4821.0                  162.0   \n",
      "1                 5196.0                       4755.0                  158.0   \n",
      "2                 4857.0                       4581.0                  157.0   \n",
      "3                 4314.0                       4131.0                  160.0   \n",
      "4                 4130.0                       3840.0                  156.0   \n",
      "\n",
      "   generation fossil oil shale  generation fossil peat  generation geothermal  \\\n",
      "0                          0.0                     0.0                    0.0   \n",
      "1                          0.0                     0.0                    0.0   \n",
      "2                          0.0                     0.0                    0.0   \n",
      "3                          0.0                     0.0                    0.0   \n",
      "4                          0.0                     0.0                    0.0   \n",
      "\n",
      "   ...  generation waste  generation wind offshore  generation wind onshore  \\\n",
      "0  ...             196.0                       0.0                   6378.0   \n",
      "1  ...             195.0                       0.0                   5890.0   \n",
      "2  ...             196.0                       0.0                   5461.0   \n",
      "3  ...             191.0                       0.0                   5238.0   \n",
      "4  ...             189.0                       0.0                   4935.0   \n",
      "\n",
      "   forecast solar day ahead  forecast wind offshore eday ahead  \\\n",
      "0                      17.0                                NaN   \n",
      "1                      16.0                                NaN   \n",
      "2                       8.0                                NaN   \n",
      "3                       2.0                                NaN   \n",
      "4                       9.0                                NaN   \n",
      "\n",
      "   forecast wind onshore day ahead  total load forecast  total load actual  \\\n",
      "0                           6436.0              26118.0            25385.0   \n",
      "1                           5856.0              24934.0            24382.0   \n",
      "2                           5454.0              23515.0            22734.0   \n",
      "3                           5151.0              22642.0            21286.0   \n",
      "4                           4861.0              21785.0            20264.0   \n",
      "\n",
      "   price day ahead  price actual  \n",
      "0            50.10         65.41  \n",
      "1            48.10         64.92  \n",
      "2            47.33         64.48  \n",
      "3            42.27         59.32  \n",
      "4            38.41         56.04  \n",
      "\n",
      "[5 rows x 29 columns]\n"
     ]
    }
   ],
   "source": [
    "print(df_energy.head())"
   ]
  },
  {
   "cell_type": "code",
   "execution_count": 80,
   "id": "0ba987a8",
   "metadata": {
    "ExecuteTime": {
     "end_time": "2023-07-20T04:25:13.776417Z",
     "start_time": "2023-07-20T04:25:13.768963Z"
    }
   },
   "outputs": [
    {
     "data": {
      "text/plain": [
       "(35064, 29)"
      ]
     },
     "execution_count": 80,
     "metadata": {},
     "output_type": "execute_result"
    }
   ],
   "source": [
    "df_energy.shape"
   ]
  },
  {
   "cell_type": "code",
   "execution_count": 81,
   "id": "18ebad56",
   "metadata": {
    "ExecuteTime": {
     "end_time": "2023-07-20T04:25:13.791797Z",
     "start_time": "2023-07-20T04:25:13.777422Z"
    }
   },
   "outputs": [
    {
     "name": "stdout",
     "output_type": "stream",
     "text": [
      "<class 'pandas.core.frame.DataFrame'>\n",
      "RangeIndex: 35064 entries, 0 to 35063\n",
      "Data columns (total 29 columns):\n",
      " #   Column                                       Non-Null Count  Dtype  \n",
      "---  ------                                       --------------  -----  \n",
      " 0   time                                         35064 non-null  object \n",
      " 1   generation biomass                           35045 non-null  float64\n",
      " 2   generation fossil brown coal/lignite         35046 non-null  float64\n",
      " 3   generation fossil coal-derived gas           35046 non-null  float64\n",
      " 4   generation fossil gas                        35046 non-null  float64\n",
      " 5   generation fossil hard coal                  35046 non-null  float64\n",
      " 6   generation fossil oil                        35045 non-null  float64\n",
      " 7   generation fossil oil shale                  35046 non-null  float64\n",
      " 8   generation fossil peat                       35046 non-null  float64\n",
      " 9   generation geothermal                        35046 non-null  float64\n",
      " 10  generation hydro pumped storage aggregated   0 non-null      float64\n",
      " 11  generation hydro pumped storage consumption  35045 non-null  float64\n",
      " 12  generation hydro run-of-river and poundage   35045 non-null  float64\n",
      " 13  generation hydro water reservoir             35046 non-null  float64\n",
      " 14  generation marine                            35045 non-null  float64\n",
      " 15  generation nuclear                           35047 non-null  float64\n",
      " 16  generation other                             35046 non-null  float64\n",
      " 17  generation other renewable                   35046 non-null  float64\n",
      " 18  generation solar                             35046 non-null  float64\n",
      " 19  generation waste                             35045 non-null  float64\n",
      " 20  generation wind offshore                     35046 non-null  float64\n",
      " 21  generation wind onshore                      35046 non-null  float64\n",
      " 22  forecast solar day ahead                     35064 non-null  float64\n",
      " 23  forecast wind offshore eday ahead            0 non-null      float64\n",
      " 24  forecast wind onshore day ahead              35064 non-null  float64\n",
      " 25  total load forecast                          35064 non-null  float64\n",
      " 26  total load actual                            35028 non-null  float64\n",
      " 27  price day ahead                              35064 non-null  float64\n",
      " 28  price actual                                 35064 non-null  float64\n",
      "dtypes: float64(28), object(1)\n",
      "memory usage: 7.8+ MB\n"
     ]
    }
   ],
   "source": [
    "df_energy.info()"
   ]
  },
  {
   "cell_type": "code",
   "execution_count": 82,
   "id": "4c676df5",
   "metadata": {
    "ExecuteTime": {
     "end_time": "2023-07-20T04:25:13.797154Z",
     "start_time": "2023-07-20T04:25:13.792802Z"
    }
   },
   "outputs": [
    {
     "data": {
      "text/plain": [
       "str"
      ]
     },
     "execution_count": 82,
     "metadata": {},
     "output_type": "execute_result"
    }
   ],
   "source": [
    "# time should be datetime not string\n",
    "type(df_energy['time'][0])"
   ]
  },
  {
   "cell_type": "markdown",
   "id": "1193d156",
   "metadata": {},
   "source": [
    "- *'time'* should be changed to datetime, as it represents time."
   ]
  },
  {
   "cell_type": "markdown",
   "id": "948aaf94",
   "metadata": {},
   "source": [
    "# Missing Values "
   ]
  },
  {
   "cell_type": "code",
   "execution_count": 83,
   "id": "bd33e529",
   "metadata": {
    "ExecuteTime": {
     "end_time": "2023-07-20T04:25:13.809207Z",
     "start_time": "2023-07-20T04:25:13.798668Z"
    }
   },
   "outputs": [
    {
     "data": {
      "text/plain": [
       "time                                               0\n",
       "generation biomass                                19\n",
       "generation fossil brown coal/lignite              18\n",
       "generation fossil coal-derived gas                18\n",
       "generation fossil gas                             18\n",
       "generation fossil hard coal                       18\n",
       "generation fossil oil                             19\n",
       "generation fossil oil shale                       18\n",
       "generation fossil peat                            18\n",
       "generation geothermal                             18\n",
       "generation hydro pumped storage aggregated     35064\n",
       "generation hydro pumped storage consumption       19\n",
       "generation hydro run-of-river and poundage        19\n",
       "generation hydro water reservoir                  18\n",
       "generation marine                                 19\n",
       "generation nuclear                                17\n",
       "generation other                                  18\n",
       "generation other renewable                        18\n",
       "generation solar                                  18\n",
       "generation waste                                  19\n",
       "generation wind offshore                          18\n",
       "generation wind onshore                           18\n",
       "forecast solar day ahead                           0\n",
       "forecast wind offshore eday ahead              35064\n",
       "forecast wind onshore day ahead                    0\n",
       "total load forecast                                0\n",
       "total load actual                                 36\n",
       "price day ahead                                    0\n",
       "price actual                                       0\n",
       "dtype: int64"
      ]
     },
     "execution_count": 83,
     "metadata": {},
     "output_type": "execute_result"
    }
   ],
   "source": [
    "df_energy.isnull().sum()"
   ]
  },
  {
   "cell_type": "markdown",
   "id": "6cb4051d",
   "metadata": {},
   "source": [
    "- All the records for *'generation hydro pumped storage aggregated'* & *'forecast wind offshore eday ahead'* contain null values. Therefore, the entire columns must be dropped."
   ]
  },
  {
   "cell_type": "code",
   "execution_count": 84,
   "id": "ca13d804",
   "metadata": {
    "ExecuteTime": {
     "end_time": "2023-07-20T04:25:13.823718Z",
     "start_time": "2023-07-20T04:25:13.811214Z"
    }
   },
   "outputs": [
    {
     "name": "stdout",
     "output_type": "stream",
     "text": [
      "2     35017\n",
      "3        29\n",
      "23       12\n",
      "22        6\n",
      "Name: count, dtype: int64\n"
     ]
    }
   ],
   "source": [
    "# count the frequency of missing values in each row (i.e. how many columns are empty)\n",
    "print(df_energy.isnull().sum(axis=1).value_counts())"
   ]
  },
  {
   "cell_type": "markdown",
   "id": "039a3e01",
   "metadata": {},
   "source": [
    "- Almost all the rows, have 2 null columns."
   ]
  },
  {
   "cell_type": "markdown",
   "id": "48de9d4b",
   "metadata": {},
   "source": [
    "# Invalid Data"
   ]
  },
  {
   "cell_type": "code",
   "execution_count": 85,
   "id": "8150cfe3",
   "metadata": {
    "ExecuteTime": {
     "end_time": "2023-07-20T04:25:13.885750Z",
     "start_time": "2023-07-20T04:25:13.825736Z"
    },
    "scrolled": true
   },
   "outputs": [
    {
     "name": "stdout",
     "output_type": "stream",
     "text": [
      "time\n",
      "2015-01-01 00:00:00+01:00    1\n",
      "2017-09-01 03:00:00+02:00    1\n",
      "2017-08-31 21:00:00+02:00    1\n",
      "2017-08-31 22:00:00+02:00    1\n",
      "2017-08-31 23:00:00+02:00    1\n",
      "                            ..\n",
      "2016-05-01 19:00:00+02:00    1\n",
      "2016-05-01 18:00:00+02:00    1\n",
      "2016-05-01 17:00:00+02:00    1\n",
      "2016-05-01 16:00:00+02:00    1\n",
      "2018-12-31 23:00:00+01:00    1\n",
      "Name: count, Length: 35064, dtype: int64\n",
      "--------------------\n",
      "generation biomass\n",
      "361.0    321\n",
      "362.0    318\n",
      "351.0    310\n",
      "358.0    305\n",
      "359.0    305\n",
      "        ... \n",
      "101.0      1\n",
      "589.0      1\n",
      "174.0      1\n",
      "175.0      1\n",
      "168.0      1\n",
      "Name: count, Length: 423, dtype: int64\n",
      "--------------------\n",
      "generation fossil brown coal/lignite\n",
      "0.0      10517\n",
      "663.0      165\n",
      "664.0      124\n",
      "595.0      108\n",
      "657.0      103\n",
      "         ...  \n",
      "144.0        1\n",
      "39.0         1\n",
      "87.0         1\n",
      "41.0         1\n",
      "35.0         1\n",
      "Name: count, Length: 956, dtype: int64\n",
      "--------------------\n",
      "generation fossil coal-derived gas\n",
      "0.0    35046\n",
      "Name: count, dtype: int64\n",
      "--------------------\n",
      "generation fossil gas\n",
      "4180.0    24\n",
      "3993.0    24\n",
      "4227.0    21\n",
      "3856.0    21\n",
      "4082.0    20\n",
      "          ..\n",
      "3284.0     1\n",
      "3323.0     1\n",
      "8903.0     1\n",
      "9341.0     1\n",
      "8024.0     1\n",
      "Name: count, Length: 8297, dtype: int64\n",
      "--------------------\n",
      "generation fossil hard coal\n",
      "5266.0    16\n",
      "4747.0    15\n",
      "5324.0    15\n",
      "6176.0    15\n",
      "5333.0    15\n",
      "          ..\n",
      "2242.0     1\n",
      "3754.0     1\n",
      "3970.0     1\n",
      "7624.0     1\n",
      "3443.0     1\n",
      "Name: count, Length: 7266, dtype: int64\n",
      "--------------------\n",
      "generation fossil oil\n",
      "303.0    335\n",
      "309.0    328\n",
      "304.0    326\n",
      "300.0    323\n",
      "308.0    320\n",
      "        ... \n",
      "122.0      1\n",
      "145.0      1\n",
      "131.0      1\n",
      "129.0      1\n",
      "44.0       1\n",
      "Name: count, Length: 321, dtype: int64\n",
      "--------------------\n",
      "generation fossil oil shale\n",
      "0.0    35046\n",
      "Name: count, dtype: int64\n",
      "--------------------\n",
      "generation fossil peat\n",
      "0.0    35046\n",
      "Name: count, dtype: int64\n",
      "--------------------\n",
      "generation geothermal\n",
      "0.0    35046\n",
      "Name: count, dtype: int64\n",
      "--------------------\n",
      "Series([], Name: count, dtype: int64)\n",
      "--------------------\n",
      "generation hydro pumped storage consumption\n",
      "0.0       12607\n",
      "1.0        1641\n",
      "2.0         300\n",
      "3.0         184\n",
      "54.0        130\n",
      "          ...  \n",
      "2743.0        1\n",
      "2505.0        1\n",
      "3068.0        1\n",
      "1913.0        1\n",
      "2217.0        1\n",
      "Name: count, Length: 3311, dtype: int64\n",
      "--------------------\n",
      "generation hydro run-of-river and poundage\n",
      "600.0     59\n",
      "632.0     58\n",
      "615.0     56\n",
      "552.0     56\n",
      "553.0     56\n",
      "          ..\n",
      "1989.0     1\n",
      "2000.0     1\n",
      "301.0      1\n",
      "287.0      1\n",
      "1918.0     1\n",
      "Name: count, Length: 1684, dtype: int64\n",
      "--------------------\n",
      "generation hydro water reservoir\n",
      "801.0     26\n",
      "621.0     22\n",
      "1099.0    21\n",
      "1311.0    21\n",
      "551.0     21\n",
      "          ..\n",
      "5386.0     1\n",
      "7193.0     1\n",
      "7204.0     1\n",
      "7031.0     1\n",
      "3144.0     1\n",
      "Name: count, Length: 7029, dtype: int64\n",
      "--------------------\n",
      "generation marine\n",
      "0.0    35045\n",
      "Name: count, dtype: int64\n",
      "--------------------\n",
      "generation nuclear\n",
      "7102.0    376\n",
      "7103.0    367\n",
      "7104.0    366\n",
      "7101.0    364\n",
      "7098.0    344\n",
      "         ... \n",
      "6600.0      1\n",
      "3965.0      1\n",
      "3888.0      1\n",
      "3837.0      1\n",
      "5812.0      1\n",
      "Name: count, Length: 2388, dtype: int64\n",
      "--------------------\n",
      "generation other\n",
      "57.0     2288\n",
      "56.0     2271\n",
      "55.0     2183\n",
      "58.0     2093\n",
      "54.0     1775\n",
      "         ... \n",
      "31.0        2\n",
      "102.0       2\n",
      "103.0       1\n",
      "106.0       1\n",
      "3.0         1\n",
      "Name: count, Length: 103, dtype: int64\n",
      "--------------------\n",
      "generation other renewable\n",
      "94.0     990\n",
      "92.0     981\n",
      "99.0     978\n",
      "93.0     961\n",
      "96.0     954\n",
      "        ... \n",
      "43.0       2\n",
      "119.0      2\n",
      "4.0        1\n",
      "14.0       1\n",
      "45.0       1\n",
      "Name: count, Length: 78, dtype: int64\n",
      "--------------------\n",
      "generation solar\n",
      "26.0      258\n",
      "20.0      247\n",
      "23.0      236\n",
      "21.0      225\n",
      "27.0      224\n",
      "         ... \n",
      "1882.0      1\n",
      "4690.0      1\n",
      "2560.0      1\n",
      "3266.0      1\n",
      "2039.0      1\n",
      "Name: count, Length: 5331, dtype: int64\n",
      "--------------------\n",
      "generation waste\n",
      "317.0    405\n",
      "312.0    398\n",
      "316.0    397\n",
      "319.0    391\n",
      "314.0    387\n",
      "        ... \n",
      "85.0       1\n",
      "84.0       1\n",
      "39.0       1\n",
      "100.0      1\n",
      "356.0      1\n",
      "Name: count, Length: 262, dtype: int64\n",
      "--------------------\n",
      "generation wind offshore\n",
      "0.0    35046\n",
      "Name: count, dtype: int64\n",
      "--------------------\n",
      "generation wind onshore\n",
      "3932.0    15\n",
      "2845.0    15\n",
      "2590.0    14\n",
      "2422.0    14\n",
      "3488.0    13\n",
      "          ..\n",
      "9707.0     1\n",
      "7882.0     1\n",
      "9427.0     1\n",
      "9447.0     1\n",
      "6133.0     1\n",
      "Name: count, Length: 11465, dtype: int64\n",
      "--------------------\n",
      "forecast solar day ahead\n",
      "10.0      555\n",
      "0.0       539\n",
      "11.0      508\n",
      "1.0       373\n",
      "12.0      358\n",
      "         ... \n",
      "3641.0      1\n",
      "2075.0      1\n",
      "3521.0      1\n",
      "3862.0      1\n",
      "1896.0      1\n",
      "Name: count, Length: 5356, dtype: int64\n",
      "--------------------\n",
      "Series([], Name: count, dtype: int64)\n",
      "--------------------\n",
      "forecast wind onshore day ahead\n",
      "2802.0     14\n",
      "3488.0     13\n",
      "3575.0     13\n",
      "3416.0     12\n",
      "3196.0     12\n",
      "           ..\n",
      "15654.0     1\n",
      "4223.0      1\n",
      "10555.0     1\n",
      "10233.0     1\n",
      "5904.0      1\n",
      "Name: count, Length: 11332, dtype: int64\n",
      "--------------------\n",
      "total load forecast\n",
      "31051.0    13\n",
      "29932.0    12\n",
      "31596.0    11\n",
      "35277.0    11\n",
      "23863.0    11\n",
      "           ..\n",
      "21240.0     1\n",
      "21751.0     1\n",
      "22263.0     1\n",
      "35432.0     1\n",
      "28517.0     1\n",
      "Name: count, Length: 14790, dtype: int64\n",
      "--------------------\n",
      "total load actual\n",
      "23665.0    12\n",
      "33176.0    10\n",
      "32023.0    10\n",
      "30960.0    10\n",
      "23000.0     9\n",
      "           ..\n",
      "36765.0     1\n",
      "37498.0     1\n",
      "37058.0     1\n",
      "35979.0     1\n",
      "21723.0     1\n",
      "Name: count, Length: 15127, dtype: int64\n",
      "--------------------\n",
      "price day ahead\n",
      "40.00    179\n",
      "50.00    178\n",
      "45.00    151\n",
      "60.00    126\n",
      "55.00    116\n",
      "        ... \n",
      "73.61      1\n",
      "70.06      1\n",
      "12.70      1\n",
      "73.53      1\n",
      "71.97      1\n",
      "Name: count, Length: 5747, dtype: int64\n",
      "--------------------\n",
      "price actual\n",
      "56.85    24\n",
      "55.91    22\n",
      "56.71    22\n",
      "52.35    21\n",
      "51.33    21\n",
      "         ..\n",
      "17.96     1\n",
      "17.47     1\n",
      "16.34     1\n",
      "18.41     1\n",
      "80.10     1\n",
      "Name: count, Length: 6653, dtype: int64\n",
      "--------------------\n"
     ]
    }
   ],
   "source": [
    "# get the unique values count for each column\n",
    "for column in df_energy.columns:\n",
    "    print(df_energy[column].value_counts())\n",
    "    print('-'*20)"
   ]
  },
  {
   "cell_type": "markdown",
   "id": "df672a2f",
   "metadata": {},
   "source": [
    "- Columns of *'generation fossil coal-derived gas', 'generation fossil oil shale', 'generation fossil peat', 'generation geothermal', 'generation marine', 'generation wind offshore'* have all record values as zero."
   ]
  },
  {
   "cell_type": "code",
   "execution_count": 86,
   "id": "50a8f154",
   "metadata": {
    "ExecuteTime": {
     "end_time": "2023-07-20T04:25:13.897017Z",
     "start_time": "2023-07-20T04:25:13.887756Z"
    }
   },
   "outputs": [
    {
     "name": "stdout",
     "output_type": "stream",
     "text": [
      "generation biomass                             0\n",
      "generation fossil brown coal/lignite           0\n",
      "generation fossil coal-derived gas             0\n",
      "generation fossil gas                          0\n",
      "generation fossil hard coal                    0\n",
      "generation fossil oil                          0\n",
      "generation fossil oil shale                    0\n",
      "generation fossil peat                         0\n",
      "generation geothermal                          0\n",
      "generation hydro pumped storage aggregated     0\n",
      "generation hydro pumped storage consumption    0\n",
      "generation hydro run-of-river and poundage     0\n",
      "generation hydro water reservoir               0\n",
      "generation marine                              0\n",
      "generation nuclear                             0\n",
      "generation other                               0\n",
      "generation other renewable                     0\n",
      "generation solar                               0\n",
      "generation waste                               0\n",
      "generation wind offshore                       0\n",
      "generation wind onshore                        0\n",
      "forecast solar day ahead                       0\n",
      "forecast wind offshore eday ahead              0\n",
      "forecast wind onshore day ahead                0\n",
      "total load forecast                            0\n",
      "total load actual                              0\n",
      "price day ahead                                0\n",
      "price actual                                   0\n",
      "dtype: int64\n"
     ]
    }
   ],
   "source": [
    "# count the negative values for each numeric column\n",
    "print((df_energy.select_dtypes(include='number') < 0).sum())"
   ]
  },
  {
   "cell_type": "markdown",
   "id": "23408fd7",
   "metadata": {},
   "source": [
    "- No columns contain negative values."
   ]
  },
  {
   "cell_type": "markdown",
   "id": "0ec3f689",
   "metadata": {},
   "source": [
    "# Data Preparation"
   ]
  },
  {
   "cell_type": "code",
   "execution_count": 87,
   "id": "0bc839e4",
   "metadata": {
    "ExecuteTime": {
     "end_time": "2023-07-20T04:25:13.907399Z",
     "start_time": "2023-07-20T04:25:13.898641Z"
    }
   },
   "outputs": [],
   "source": [
    "# drop columns with all null values\n",
    "columns_to_drop = ['generation hydro pumped storage aggregated', 'forecast wind offshore eday ahead']\n",
    "df_energy.drop(columns_to_drop, axis=1, inplace=True)"
   ]
  },
  {
   "cell_type": "code",
   "execution_count": 88,
   "id": "85df04dc",
   "metadata": {
    "ExecuteTime": {
     "end_time": "2023-07-20T04:25:13.920719Z",
     "start_time": "2023-07-20T04:25:13.908909Z"
    }
   },
   "outputs": [
    {
     "data": {
      "text/plain": [
       "time                                            0\n",
       "generation biomass                             19\n",
       "generation fossil brown coal/lignite           18\n",
       "generation fossil coal-derived gas             18\n",
       "generation fossil gas                          18\n",
       "generation fossil hard coal                    18\n",
       "generation fossil oil                          19\n",
       "generation fossil oil shale                    18\n",
       "generation fossil peat                         18\n",
       "generation geothermal                          18\n",
       "generation hydro pumped storage consumption    19\n",
       "generation hydro run-of-river and poundage     19\n",
       "generation hydro water reservoir               18\n",
       "generation marine                              19\n",
       "generation nuclear                             17\n",
       "generation other                               18\n",
       "generation other renewable                     18\n",
       "generation solar                               18\n",
       "generation waste                               19\n",
       "generation wind offshore                       18\n",
       "generation wind onshore                        18\n",
       "forecast solar day ahead                        0\n",
       "forecast wind onshore day ahead                 0\n",
       "total load forecast                             0\n",
       "total load actual                              36\n",
       "price day ahead                                 0\n",
       "price actual                                    0\n",
       "dtype: int64"
      ]
     },
     "execution_count": 88,
     "metadata": {},
     "output_type": "execute_result"
    }
   ],
   "source": [
    "df_energy.isnull().sum()"
   ]
  },
  {
   "cell_type": "code",
   "execution_count": 89,
   "id": "8c6833c5",
   "metadata": {
    "ExecuteTime": {
     "end_time": "2023-07-20T04:25:13.932342Z",
     "start_time": "2023-07-20T04:25:13.920719Z"
    }
   },
   "outputs": [
    {
     "name": "stdout",
     "output_type": "stream",
     "text": [
      "0     35017\n",
      "1        29\n",
      "21       12\n",
      "20        6\n",
      "Name: count, dtype: int64\n"
     ]
    }
   ],
   "source": [
    "# count the frequency of missing values in each row (i.e. how many columns are empty)\n",
    "print(df_energy.isnull().sum(axis=1).value_counts())"
   ]
  },
  {
   "cell_type": "code",
   "execution_count": 90,
   "id": "6ae0a9e5",
   "metadata": {
    "ExecuteTime": {
     "end_time": "2023-07-20T04:25:13.940959Z",
     "start_time": "2023-07-20T04:25:13.933348Z"
    }
   },
   "outputs": [],
   "source": [
    "# drop columns with all zero values\n",
    "columns_to_drop = ['generation fossil coal-derived gas', 'generation fossil oil shale', 'generation fossil peat', \n",
    "                   'generation geothermal', 'generation marine', 'generation wind offshore' ]\n",
    "df_energy.drop(columns_to_drop, axis=1, inplace=True)"
   ]
  },
  {
   "cell_type": "code",
   "execution_count": 91,
   "id": "4d82f57f",
   "metadata": {
    "ExecuteTime": {
     "end_time": "2023-07-20T04:25:13.954338Z",
     "start_time": "2023-07-20T04:25:13.942964Z"
    }
   },
   "outputs": [
    {
     "name": "stdout",
     "output_type": "stream",
     "text": [
      "0     35018\n",
      "1        28\n",
      "15       12\n",
      "14        6\n",
      "Name: count, dtype: int64\n"
     ]
    }
   ],
   "source": [
    "# count the frequency of missing values in each row (i.e. how many columns are empty)\n",
    "print(df_energy.isnull().sum(axis=1).value_counts())"
   ]
  },
  {
   "cell_type": "code",
   "execution_count": 92,
   "id": "ac0350e0",
   "metadata": {
    "ExecuteTime": {
     "end_time": "2023-07-20T04:25:25.158431Z",
     "start_time": "2023-07-20T04:25:25.149920Z"
    }
   },
   "outputs": [],
   "source": [
    "# remove the rows having null values\n",
    "df_energy = df_energy.dropna()"
   ]
  },
  {
   "cell_type": "code",
   "execution_count": 94,
   "id": "de72885b",
   "metadata": {
    "ExecuteTime": {
     "end_time": "2023-07-20T04:25:34.335160Z",
     "start_time": "2023-07-20T04:25:34.325010Z"
    }
   },
   "outputs": [
    {
     "name": "stdout",
     "output_type": "stream",
     "text": [
      "0    35018\n",
      "Name: count, dtype: int64\n"
     ]
    }
   ],
   "source": [
    "# count the frequency of missing values in each row (i.e. how many columns are empty)\n",
    "print(df_energy.isnull().sum(axis=1).value_counts())"
   ]
  },
  {
   "cell_type": "code",
   "execution_count": 95,
   "id": "696eebd2",
   "metadata": {
    "ExecuteTime": {
     "end_time": "2023-07-20T04:27:10.996258Z",
     "start_time": "2023-07-20T04:27:10.990440Z"
    }
   },
   "outputs": [
    {
     "data": {
      "text/plain": [
       "0        2015-01-01 00:00:00+01:00\n",
       "1        2015-01-01 01:00:00+01:00\n",
       "2        2015-01-01 02:00:00+01:00\n",
       "3        2015-01-01 03:00:00+01:00\n",
       "4        2015-01-01 04:00:00+01:00\n",
       "                   ...            \n",
       "35059    2018-12-31 19:00:00+01:00\n",
       "35060    2018-12-31 20:00:00+01:00\n",
       "35061    2018-12-31 21:00:00+01:00\n",
       "35062    2018-12-31 22:00:00+01:00\n",
       "35063    2018-12-31 23:00:00+01:00\n",
       "Name: time, Length: 35018, dtype: object"
      ]
     },
     "execution_count": 95,
     "metadata": {},
     "output_type": "execute_result"
    }
   ],
   "source": [
    "df_energy['time']"
   ]
  },
  {
   "cell_type": "code",
   "execution_count": 96,
   "id": "1da8951a",
   "metadata": {
    "ExecuteTime": {
     "end_time": "2023-07-20T04:27:51.853721Z",
     "start_time": "2023-07-20T04:27:51.485667Z"
    }
   },
   "outputs": [],
   "source": [
    "# Convert the column from string to datetime\n",
    "df_energy['time'] = pd.to_datetime(df_energy['time'])"
   ]
  },
  {
   "cell_type": "markdown",
   "id": "81dbb833",
   "metadata": {},
   "source": [
    "- We have taken care of all the missing and invalid datatypes and values. "
   ]
  },
  {
   "cell_type": "code",
   "execution_count": null,
   "id": "49d69324",
   "metadata": {},
   "outputs": [],
   "source": []
  }
 ],
 "metadata": {
  "kernelspec": {
   "display_name": "electricity",
   "language": "python",
   "name": "electricity"
  },
  "language_info": {
   "codemirror_mode": {
    "name": "ipython",
    "version": 3
   },
   "file_extension": ".py",
   "mimetype": "text/x-python",
   "name": "python",
   "nbconvert_exporter": "python",
   "pygments_lexer": "ipython3",
   "version": "3.11.4"
  }
 },
 "nbformat": 4,
 "nbformat_minor": 5
}
