{
 "cells": [
  {
   "cell_type": "code",
   "execution_count": 48,
   "id": "edb3f174",
   "metadata": {
    "ExecuteTime": {
     "end_time": "2023-07-23T22:45:41.067429Z",
     "start_time": "2023-07-23T22:45:41.063213Z"
    }
   },
   "outputs": [],
   "source": [
    "import pandas as pd\n",
    "import numpy as np\n",
    "import matplotlib.pyplot as plt"
   ]
  },
  {
   "cell_type": "markdown",
   "id": "510932e2",
   "metadata": {},
   "source": [
    "link - https://www.kaggle.com/datasets/nicholasjhana/energy-consumption-generation-prices-and-weather\n"
   ]
  },
  {
   "cell_type": "markdown",
   "id": "e95f4dbc",
   "metadata": {},
   "source": [
    "# Load the data"
   ]
  },
  {
   "cell_type": "code",
   "execution_count": 49,
   "id": "cb025f4a",
   "metadata": {
    "ExecuteTime": {
     "end_time": "2023-07-23T22:45:41.403105Z",
     "start_time": "2023-07-23T22:45:41.069433Z"
    }
   },
   "outputs": [],
   "source": [
    "# load the data\n",
    "df_energy = pd.read_csv('data/energy_dataset.csv')\n",
    "df_weather = pd.read_csv('data/weather_features.csv')"
   ]
  },
  {
   "cell_type": "markdown",
   "id": "a67d53b2",
   "metadata": {},
   "source": [
    "# Inspect the data"
   ]
  },
  {
   "cell_type": "markdown",
   "id": "5a7ca019",
   "metadata": {},
   "source": [
    "## df_energy"
   ]
  },
  {
   "cell_type": "code",
   "execution_count": 50,
   "id": "b0dda730",
   "metadata": {
    "ExecuteTime": {
     "end_time": "2023-07-23T22:45:41.415995Z",
     "start_time": "2023-07-23T22:45:41.404110Z"
    }
   },
   "outputs": [
    {
     "name": "stdout",
     "output_type": "stream",
     "text": [
      "                        time  generation biomass  \\\n",
      "0  2015-01-01 00:00:00+01:00               447.0   \n",
      "1  2015-01-01 01:00:00+01:00               449.0   \n",
      "2  2015-01-01 02:00:00+01:00               448.0   \n",
      "3  2015-01-01 03:00:00+01:00               438.0   \n",
      "4  2015-01-01 04:00:00+01:00               428.0   \n",
      "\n",
      "   generation fossil brown coal/lignite  generation fossil coal-derived gas  \\\n",
      "0                                 329.0                                 0.0   \n",
      "1                                 328.0                                 0.0   \n",
      "2                                 323.0                                 0.0   \n",
      "3                                 254.0                                 0.0   \n",
      "4                                 187.0                                 0.0   \n",
      "\n",
      "   generation fossil gas  generation fossil hard coal  generation fossil oil  \\\n",
      "0                 4844.0                       4821.0                  162.0   \n",
      "1                 5196.0                       4755.0                  158.0   \n",
      "2                 4857.0                       4581.0                  157.0   \n",
      "3                 4314.0                       4131.0                  160.0   \n",
      "4                 4130.0                       3840.0                  156.0   \n",
      "\n",
      "   generation fossil oil shale  generation fossil peat  generation geothermal  \\\n",
      "0                          0.0                     0.0                    0.0   \n",
      "1                          0.0                     0.0                    0.0   \n",
      "2                          0.0                     0.0                    0.0   \n",
      "3                          0.0                     0.0                    0.0   \n",
      "4                          0.0                     0.0                    0.0   \n",
      "\n",
      "   generation hydro pumped storage aggregated  \\\n",
      "0                                         NaN   \n",
      "1                                         NaN   \n",
      "2                                         NaN   \n",
      "3                                         NaN   \n",
      "4                                         NaN   \n",
      "\n",
      "   generation hydro pumped storage consumption  \\\n",
      "0                                        863.0   \n",
      "1                                        920.0   \n",
      "2                                       1164.0   \n",
      "3                                       1503.0   \n",
      "4                                       1826.0   \n",
      "\n",
      "   generation hydro run-of-river and poundage  \\\n",
      "0                                      1051.0   \n",
      "1                                      1009.0   \n",
      "2                                       973.0   \n",
      "3                                       949.0   \n",
      "4                                       953.0   \n",
      "\n",
      "   generation hydro water reservoir  generation marine  generation nuclear  \\\n",
      "0                            1899.0                0.0              7096.0   \n",
      "1                            1658.0                0.0              7096.0   \n",
      "2                            1371.0                0.0              7099.0   \n",
      "3                             779.0                0.0              7098.0   \n",
      "4                             720.0                0.0              7097.0   \n",
      "\n",
      "   generation other  generation other renewable  generation solar  \\\n",
      "0              43.0                        73.0              49.0   \n",
      "1              43.0                        71.0              50.0   \n",
      "2              43.0                        73.0              50.0   \n",
      "3              43.0                        75.0              50.0   \n",
      "4              43.0                        74.0              42.0   \n",
      "\n",
      "   generation waste  generation wind offshore  generation wind onshore  \\\n",
      "0             196.0                       0.0                   6378.0   \n",
      "1             195.0                       0.0                   5890.0   \n",
      "2             196.0                       0.0                   5461.0   \n",
      "3             191.0                       0.0                   5238.0   \n",
      "4             189.0                       0.0                   4935.0   \n",
      "\n",
      "   forecast solar day ahead  forecast wind offshore eday ahead  \\\n",
      "0                      17.0                                NaN   \n",
      "1                      16.0                                NaN   \n",
      "2                       8.0                                NaN   \n",
      "3                       2.0                                NaN   \n",
      "4                       9.0                                NaN   \n",
      "\n",
      "   forecast wind onshore day ahead  total load forecast  total load actual  \\\n",
      "0                           6436.0              26118.0            25385.0   \n",
      "1                           5856.0              24934.0            24382.0   \n",
      "2                           5454.0              23515.0            22734.0   \n",
      "3                           5151.0              22642.0            21286.0   \n",
      "4                           4861.0              21785.0            20264.0   \n",
      "\n",
      "   price day ahead  price actual  \n",
      "0            50.10         65.41  \n",
      "1            48.10         64.92  \n",
      "2            47.33         64.48  \n",
      "3            42.27         59.32  \n",
      "4            38.41         56.04  \n"
     ]
    }
   ],
   "source": [
    "print(df_energy.head())"
   ]
  },
  {
   "cell_type": "code",
   "execution_count": 51,
   "id": "0ba987a8",
   "metadata": {
    "ExecuteTime": {
     "end_time": "2023-07-23T22:45:41.426164Z",
     "start_time": "2023-07-23T22:45:41.418005Z"
    }
   },
   "outputs": [
    {
     "data": {
      "text/plain": [
       "(35064, 29)"
      ]
     },
     "execution_count": 51,
     "metadata": {},
     "output_type": "execute_result"
    }
   ],
   "source": [
    "df_energy.shape"
   ]
  },
  {
   "cell_type": "code",
   "execution_count": 52,
   "id": "18ebad56",
   "metadata": {
    "ExecuteTime": {
     "end_time": "2023-07-23T22:45:41.447307Z",
     "start_time": "2023-07-23T22:45:41.427174Z"
    }
   },
   "outputs": [
    {
     "name": "stdout",
     "output_type": "stream",
     "text": [
      "<class 'pandas.core.frame.DataFrame'>\n",
      "RangeIndex: 35064 entries, 0 to 35063\n",
      "Data columns (total 29 columns):\n",
      " #   Column                                       Non-Null Count  Dtype  \n",
      "---  ------                                       --------------  -----  \n",
      " 0   time                                         35064 non-null  object \n",
      " 1   generation biomass                           35045 non-null  float64\n",
      " 2   generation fossil brown coal/lignite         35046 non-null  float64\n",
      " 3   generation fossil coal-derived gas           35046 non-null  float64\n",
      " 4   generation fossil gas                        35046 non-null  float64\n",
      " 5   generation fossil hard coal                  35046 non-null  float64\n",
      " 6   generation fossil oil                        35045 non-null  float64\n",
      " 7   generation fossil oil shale                  35046 non-null  float64\n",
      " 8   generation fossil peat                       35046 non-null  float64\n",
      " 9   generation geothermal                        35046 non-null  float64\n",
      " 10  generation hydro pumped storage aggregated   0 non-null      float64\n",
      " 11  generation hydro pumped storage consumption  35045 non-null  float64\n",
      " 12  generation hydro run-of-river and poundage   35045 non-null  float64\n",
      " 13  generation hydro water reservoir             35046 non-null  float64\n",
      " 14  generation marine                            35045 non-null  float64\n",
      " 15  generation nuclear                           35047 non-null  float64\n",
      " 16  generation other                             35046 non-null  float64\n",
      " 17  generation other renewable                   35046 non-null  float64\n",
      " 18  generation solar                             35046 non-null  float64\n",
      " 19  generation waste                             35045 non-null  float64\n",
      " 20  generation wind offshore                     35046 non-null  float64\n",
      " 21  generation wind onshore                      35046 non-null  float64\n",
      " 22  forecast solar day ahead                     35064 non-null  float64\n",
      " 23  forecast wind offshore eday ahead            0 non-null      float64\n",
      " 24  forecast wind onshore day ahead              35064 non-null  float64\n",
      " 25  total load forecast                          35064 non-null  float64\n",
      " 26  total load actual                            35028 non-null  float64\n",
      " 27  price day ahead                              35064 non-null  float64\n",
      " 28  price actual                                 35064 non-null  float64\n",
      "dtypes: float64(28), object(1)\n",
      "memory usage: 7.8+ MB\n"
     ]
    }
   ],
   "source": [
    "df_energy.info()"
   ]
  },
  {
   "cell_type": "code",
   "execution_count": 53,
   "id": "4c676df5",
   "metadata": {
    "ExecuteTime": {
     "end_time": "2023-07-23T22:45:41.454161Z",
     "start_time": "2023-07-23T22:45:41.448311Z"
    }
   },
   "outputs": [
    {
     "data": {
      "text/plain": [
       "str"
      ]
     },
     "execution_count": 53,
     "metadata": {},
     "output_type": "execute_result"
    }
   ],
   "source": [
    "# time should be datetime not string\n",
    "type(df_energy['time'][0])"
   ]
  },
  {
   "cell_type": "markdown",
   "id": "1193d156",
   "metadata": {},
   "source": [
    "- *'time'* should be changed to datetime, as it represents time."
   ]
  },
  {
   "cell_type": "markdown",
   "id": "cb975f85",
   "metadata": {},
   "source": [
    "## df_weather"
   ]
  },
  {
   "cell_type": "code",
   "execution_count": 54,
   "id": "f683ce6c",
   "metadata": {
    "ExecuteTime": {
     "end_time": "2023-07-23T22:45:41.466705Z",
     "start_time": "2023-07-23T22:45:41.455166Z"
    }
   },
   "outputs": [
    {
     "name": "stdout",
     "output_type": "stream",
     "text": [
      "                      dt_iso city_name     temp  temp_min  temp_max  pressure  \\\n",
      "0  2015-01-01 00:00:00+01:00  Valencia  270.475   270.475   270.475      1001   \n",
      "1  2015-01-01 01:00:00+01:00  Valencia  270.475   270.475   270.475      1001   \n",
      "2  2015-01-01 02:00:00+01:00  Valencia  269.686   269.686   269.686      1002   \n",
      "3  2015-01-01 03:00:00+01:00  Valencia  269.686   269.686   269.686      1002   \n",
      "4  2015-01-01 04:00:00+01:00  Valencia  269.686   269.686   269.686      1002   \n",
      "\n",
      "   humidity  wind_speed  wind_deg  rain_1h  rain_3h  snow_3h  clouds_all  \\\n",
      "0        77           1        62      0.0      0.0      0.0           0   \n",
      "1        77           1        62      0.0      0.0      0.0           0   \n",
      "2        78           0        23      0.0      0.0      0.0           0   \n",
      "3        78           0        23      0.0      0.0      0.0           0   \n",
      "4        78           0        23      0.0      0.0      0.0           0   \n",
      "\n",
      "   weather_id weather_main weather_description weather_icon  \n",
      "0         800        clear        sky is clear          01n  \n",
      "1         800        clear        sky is clear          01n  \n",
      "2         800        clear        sky is clear          01n  \n",
      "3         800        clear        sky is clear          01n  \n",
      "4         800        clear        sky is clear          01n  \n"
     ]
    }
   ],
   "source": [
    "print(df_weather.head())"
   ]
  },
  {
   "cell_type": "markdown",
   "id": "b93382f6",
   "metadata": {},
   "source": [
    "- temp is measured in Kelvin.\n",
    "- *rain_1h, rain_3h, snow_3h, clouds_all* seem to have all zero values."
   ]
  },
  {
   "cell_type": "code",
   "execution_count": 55,
   "id": "a30d6cfe",
   "metadata": {
    "ExecuteTime": {
     "end_time": "2023-07-23T22:45:41.480222Z",
     "start_time": "2023-07-23T22:45:41.468715Z"
    }
   },
   "outputs": [
    {
     "data": {
      "text/plain": [
       "(178396, 17)"
      ]
     },
     "execution_count": 55,
     "metadata": {},
     "output_type": "execute_result"
    }
   ],
   "source": [
    "df_weather.shape"
   ]
  },
  {
   "cell_type": "code",
   "execution_count": 56,
   "id": "a3fc985f",
   "metadata": {
    "ExecuteTime": {
     "end_time": "2023-07-23T22:45:41.516290Z",
     "start_time": "2023-07-23T22:45:41.482749Z"
    }
   },
   "outputs": [
    {
     "name": "stdout",
     "output_type": "stream",
     "text": [
      "<class 'pandas.core.frame.DataFrame'>\n",
      "RangeIndex: 178396 entries, 0 to 178395\n",
      "Data columns (total 17 columns):\n",
      " #   Column               Non-Null Count   Dtype  \n",
      "---  ------               --------------   -----  \n",
      " 0   dt_iso               178396 non-null  object \n",
      " 1   city_name            178396 non-null  object \n",
      " 2   temp                 178396 non-null  float64\n",
      " 3   temp_min             178396 non-null  float64\n",
      " 4   temp_max             178396 non-null  float64\n",
      " 5   pressure             178396 non-null  int64  \n",
      " 6   humidity             178396 non-null  int64  \n",
      " 7   wind_speed           178396 non-null  int64  \n",
      " 8   wind_deg             178396 non-null  int64  \n",
      " 9   rain_1h              178396 non-null  float64\n",
      " 10  rain_3h              178396 non-null  float64\n",
      " 11  snow_3h              178396 non-null  float64\n",
      " 12  clouds_all           178396 non-null  int64  \n",
      " 13  weather_id           178396 non-null  int64  \n",
      " 14  weather_main         178396 non-null  object \n",
      " 15  weather_description  178396 non-null  object \n",
      " 16  weather_icon         178396 non-null  object \n",
      "dtypes: float64(6), int64(6), object(5)\n",
      "memory usage: 23.1+ MB\n"
     ]
    }
   ],
   "source": [
    "df_weather.info()"
   ]
  },
  {
   "cell_type": "markdown",
   "id": "42da9863",
   "metadata": {},
   "source": [
    "- df_weather has no null values."
   ]
  },
  {
   "cell_type": "markdown",
   "id": "948aaf94",
   "metadata": {},
   "source": [
    "# Missing Values "
   ]
  },
  {
   "cell_type": "markdown",
   "id": "3b9d8978",
   "metadata": {},
   "source": [
    "## df_energy"
   ]
  },
  {
   "cell_type": "code",
   "execution_count": 57,
   "id": "bd33e529",
   "metadata": {
    "ExecuteTime": {
     "end_time": "2023-07-23T22:45:41.526401Z",
     "start_time": "2023-07-23T22:45:41.517295Z"
    }
   },
   "outputs": [
    {
     "data": {
      "text/plain": [
       "time                                               0\n",
       "generation biomass                                19\n",
       "generation fossil brown coal/lignite              18\n",
       "generation fossil coal-derived gas                18\n",
       "generation fossil gas                             18\n",
       "generation fossil hard coal                       18\n",
       "generation fossil oil                             19\n",
       "generation fossil oil shale                       18\n",
       "generation fossil peat                            18\n",
       "generation geothermal                             18\n",
       "generation hydro pumped storage aggregated     35064\n",
       "generation hydro pumped storage consumption       19\n",
       "generation hydro run-of-river and poundage        19\n",
       "generation hydro water reservoir                  18\n",
       "generation marine                                 19\n",
       "generation nuclear                                17\n",
       "generation other                                  18\n",
       "generation other renewable                        18\n",
       "generation solar                                  18\n",
       "generation waste                                  19\n",
       "generation wind offshore                          18\n",
       "generation wind onshore                           18\n",
       "forecast solar day ahead                           0\n",
       "forecast wind offshore eday ahead              35064\n",
       "forecast wind onshore day ahead                    0\n",
       "total load forecast                                0\n",
       "total load actual                                 36\n",
       "price day ahead                                    0\n",
       "price actual                                       0\n",
       "dtype: int64"
      ]
     },
     "execution_count": 57,
     "metadata": {},
     "output_type": "execute_result"
    }
   ],
   "source": [
    "df_energy.isnull().sum()"
   ]
  },
  {
   "cell_type": "markdown",
   "id": "6cb4051d",
   "metadata": {},
   "source": [
    "- All the records for *'generation hydro pumped storage aggregated'* & *'forecast wind offshore eday ahead'* contain null values. Therefore, the entire columns must be dropped."
   ]
  },
  {
   "cell_type": "code",
   "execution_count": 58,
   "id": "ca13d804",
   "metadata": {
    "ExecuteTime": {
     "end_time": "2023-07-23T22:45:41.541441Z",
     "start_time": "2023-07-23T22:45:41.527406Z"
    }
   },
   "outputs": [
    {
     "name": "stdout",
     "output_type": "stream",
     "text": [
      "2     35017\n",
      "3        29\n",
      "23       12\n",
      "22        6\n",
      "Name: count, dtype: int64\n"
     ]
    }
   ],
   "source": [
    "# count the frequency of missing values in each row (i.e. how many columns are empty)\n",
    "print(df_energy.isnull().sum(axis=1).value_counts())"
   ]
  },
  {
   "cell_type": "markdown",
   "id": "039a3e01",
   "metadata": {},
   "source": [
    "- Almost all the rows, have 2 null columns."
   ]
  },
  {
   "cell_type": "markdown",
   "id": "5560a092",
   "metadata": {},
   "source": [
    "## df_weather"
   ]
  },
  {
   "cell_type": "code",
   "execution_count": 59,
   "id": "32d894bf",
   "metadata": {
    "ExecuteTime": {
     "end_time": "2023-07-23T22:45:41.569588Z",
     "start_time": "2023-07-23T22:45:41.542971Z"
    }
   },
   "outputs": [
    {
     "data": {
      "text/plain": [
       "dt_iso                 0\n",
       "city_name              0\n",
       "temp                   0\n",
       "temp_min               0\n",
       "temp_max               0\n",
       "pressure               0\n",
       "humidity               0\n",
       "wind_speed             0\n",
       "wind_deg               0\n",
       "rain_1h                0\n",
       "rain_3h                0\n",
       "snow_3h                0\n",
       "clouds_all             0\n",
       "weather_id             0\n",
       "weather_main           0\n",
       "weather_description    0\n",
       "weather_icon           0\n",
       "dtype: int64"
      ]
     },
     "execution_count": 59,
     "metadata": {},
     "output_type": "execute_result"
    }
   ],
   "source": [
    "df_weather.isnull().sum()"
   ]
  },
  {
   "cell_type": "markdown",
   "id": "7245c0f7",
   "metadata": {},
   "source": [
    "- No missing values in df_weather."
   ]
  },
  {
   "cell_type": "markdown",
   "id": "48de9d4b",
   "metadata": {},
   "source": [
    "# Invalid Data"
   ]
  },
  {
   "cell_type": "markdown",
   "id": "d619ba57",
   "metadata": {},
   "source": [
    "## df_energy"
   ]
  },
  {
   "cell_type": "code",
   "execution_count": 60,
   "id": "8150cfe3",
   "metadata": {
    "ExecuteTime": {
     "end_time": "2023-07-23T22:45:41.631272Z",
     "start_time": "2023-07-23T22:45:41.570594Z"
    },
    "scrolled": true
   },
   "outputs": [
    {
     "name": "stdout",
     "output_type": "stream",
     "text": [
      "time\n",
      "2015-01-01 00:00:00+01:00    1\n",
      "2017-09-01 03:00:00+02:00    1\n",
      "2017-08-31 21:00:00+02:00    1\n",
      "2017-08-31 22:00:00+02:00    1\n",
      "2017-08-31 23:00:00+02:00    1\n",
      "                            ..\n",
      "2016-05-01 19:00:00+02:00    1\n",
      "2016-05-01 18:00:00+02:00    1\n",
      "2016-05-01 17:00:00+02:00    1\n",
      "2016-05-01 16:00:00+02:00    1\n",
      "2018-12-31 23:00:00+01:00    1\n",
      "Name: count, Length: 35064, dtype: int64\n",
      "--------------------\n",
      "generation biomass\n",
      "361.0    321\n",
      "362.0    318\n",
      "351.0    310\n",
      "358.0    305\n",
      "359.0    305\n",
      "        ... \n",
      "101.0      1\n",
      "589.0      1\n",
      "174.0      1\n",
      "175.0      1\n",
      "168.0      1\n",
      "Name: count, Length: 423, dtype: int64\n",
      "--------------------\n",
      "generation fossil brown coal/lignite\n",
      "0.0      10517\n",
      "663.0      165\n",
      "664.0      124\n",
      "595.0      108\n",
      "657.0      103\n",
      "         ...  \n",
      "144.0        1\n",
      "39.0         1\n",
      "87.0         1\n",
      "41.0         1\n",
      "35.0         1\n",
      "Name: count, Length: 956, dtype: int64\n",
      "--------------------\n",
      "generation fossil coal-derived gas\n",
      "0.0    35046\n",
      "Name: count, dtype: int64\n",
      "--------------------\n",
      "generation fossil gas\n",
      "4180.0    24\n",
      "3993.0    24\n",
      "4227.0    21\n",
      "3856.0    21\n",
      "4082.0    20\n",
      "          ..\n",
      "3284.0     1\n",
      "3323.0     1\n",
      "8903.0     1\n",
      "9341.0     1\n",
      "8024.0     1\n",
      "Name: count, Length: 8297, dtype: int64\n",
      "--------------------\n",
      "generation fossil hard coal\n",
      "5266.0    16\n",
      "4747.0    15\n",
      "5324.0    15\n",
      "6176.0    15\n",
      "5333.0    15\n",
      "          ..\n",
      "2242.0     1\n",
      "3754.0     1\n",
      "3970.0     1\n",
      "7624.0     1\n",
      "3443.0     1\n",
      "Name: count, Length: 7266, dtype: int64\n",
      "--------------------\n",
      "generation fossil oil\n",
      "303.0    335\n",
      "309.0    328\n",
      "304.0    326\n",
      "300.0    323\n",
      "308.0    320\n",
      "        ... \n",
      "122.0      1\n",
      "145.0      1\n",
      "131.0      1\n",
      "129.0      1\n",
      "44.0       1\n",
      "Name: count, Length: 321, dtype: int64\n",
      "--------------------\n",
      "generation fossil oil shale\n",
      "0.0    35046\n",
      "Name: count, dtype: int64\n",
      "--------------------\n",
      "generation fossil peat\n",
      "0.0    35046\n",
      "Name: count, dtype: int64\n",
      "--------------------\n",
      "generation geothermal\n",
      "0.0    35046\n",
      "Name: count, dtype: int64\n",
      "--------------------\n",
      "Series([], Name: count, dtype: int64)\n",
      "--------------------\n",
      "generation hydro pumped storage consumption\n",
      "0.0       12607\n",
      "1.0        1641\n",
      "2.0         300\n",
      "3.0         184\n",
      "54.0        130\n",
      "          ...  \n",
      "2743.0        1\n",
      "2505.0        1\n",
      "3068.0        1\n",
      "1913.0        1\n",
      "2217.0        1\n",
      "Name: count, Length: 3311, dtype: int64\n",
      "--------------------\n",
      "generation hydro run-of-river and poundage\n",
      "600.0     59\n",
      "632.0     58\n",
      "615.0     56\n",
      "552.0     56\n",
      "553.0     56\n",
      "          ..\n",
      "1989.0     1\n",
      "2000.0     1\n",
      "301.0      1\n",
      "287.0      1\n",
      "1918.0     1\n",
      "Name: count, Length: 1684, dtype: int64\n",
      "--------------------\n",
      "generation hydro water reservoir\n",
      "801.0     26\n",
      "621.0     22\n",
      "1099.0    21\n",
      "1311.0    21\n",
      "551.0     21\n",
      "          ..\n",
      "5386.0     1\n",
      "7193.0     1\n",
      "7204.0     1\n",
      "7031.0     1\n",
      "3144.0     1\n",
      "Name: count, Length: 7029, dtype: int64\n",
      "--------------------\n",
      "generation marine\n",
      "0.0    35045\n",
      "Name: count, dtype: int64\n",
      "--------------------\n",
      "generation nuclear\n",
      "7102.0    376\n",
      "7103.0    367\n",
      "7104.0    366\n",
      "7101.0    364\n",
      "7098.0    344\n",
      "         ... \n",
      "6600.0      1\n",
      "3965.0      1\n",
      "3888.0      1\n",
      "3837.0      1\n",
      "5812.0      1\n",
      "Name: count, Length: 2388, dtype: int64\n",
      "--------------------\n",
      "generation other\n",
      "57.0     2288\n",
      "56.0     2271\n",
      "55.0     2183\n",
      "58.0     2093\n",
      "54.0     1775\n",
      "         ... \n",
      "31.0        2\n",
      "102.0       2\n",
      "103.0       1\n",
      "106.0       1\n",
      "3.0         1\n",
      "Name: count, Length: 103, dtype: int64\n",
      "--------------------\n",
      "generation other renewable\n",
      "94.0     990\n",
      "92.0     981\n",
      "99.0     978\n",
      "93.0     961\n",
      "96.0     954\n",
      "        ... \n",
      "43.0       2\n",
      "119.0      2\n",
      "4.0        1\n",
      "14.0       1\n",
      "45.0       1\n",
      "Name: count, Length: 78, dtype: int64\n",
      "--------------------\n",
      "generation solar\n",
      "26.0      258\n",
      "20.0      247\n",
      "23.0      236\n",
      "21.0      225\n",
      "27.0      224\n",
      "         ... \n",
      "1882.0      1\n",
      "4690.0      1\n",
      "2560.0      1\n",
      "3266.0      1\n",
      "2039.0      1\n",
      "Name: count, Length: 5331, dtype: int64\n",
      "--------------------\n",
      "generation waste\n",
      "317.0    405\n",
      "312.0    398\n",
      "316.0    397\n",
      "319.0    391\n",
      "314.0    387\n",
      "        ... \n",
      "85.0       1\n",
      "84.0       1\n",
      "39.0       1\n",
      "100.0      1\n",
      "356.0      1\n",
      "Name: count, Length: 262, dtype: int64\n",
      "--------------------\n",
      "generation wind offshore\n",
      "0.0    35046\n",
      "Name: count, dtype: int64\n",
      "--------------------\n",
      "generation wind onshore\n",
      "3932.0    15\n",
      "2845.0    15\n",
      "2590.0    14\n",
      "2422.0    14\n",
      "3488.0    13\n",
      "          ..\n",
      "9707.0     1\n",
      "7882.0     1\n",
      "9427.0     1\n",
      "9447.0     1\n",
      "6133.0     1\n",
      "Name: count, Length: 11465, dtype: int64\n",
      "--------------------\n",
      "forecast solar day ahead\n",
      "10.0      555\n",
      "0.0       539\n",
      "11.0      508\n",
      "1.0       373\n",
      "12.0      358\n",
      "         ... \n",
      "3641.0      1\n",
      "2075.0      1\n",
      "3521.0      1\n",
      "3862.0      1\n",
      "1896.0      1\n",
      "Name: count, Length: 5356, dtype: int64\n",
      "--------------------\n",
      "Series([], Name: count, dtype: int64)\n",
      "--------------------\n",
      "forecast wind onshore day ahead\n",
      "2802.0     14\n",
      "3488.0     13\n",
      "3575.0     13\n",
      "3416.0     12\n",
      "3196.0     12\n",
      "           ..\n",
      "15654.0     1\n",
      "4223.0      1\n",
      "10555.0     1\n",
      "10233.0     1\n",
      "5904.0      1\n",
      "Name: count, Length: 11332, dtype: int64\n",
      "--------------------\n",
      "total load forecast\n",
      "31051.0    13\n",
      "29932.0    12\n",
      "31596.0    11\n",
      "35277.0    11\n",
      "23863.0    11\n",
      "           ..\n",
      "21240.0     1\n",
      "21751.0     1\n",
      "22263.0     1\n",
      "35432.0     1\n",
      "28517.0     1\n",
      "Name: count, Length: 14790, dtype: int64\n",
      "--------------------\n",
      "total load actual\n",
      "23665.0    12\n",
      "33176.0    10\n",
      "32023.0    10\n",
      "30960.0    10\n",
      "23000.0     9\n",
      "           ..\n",
      "36765.0     1\n",
      "37498.0     1\n",
      "37058.0     1\n",
      "35979.0     1\n",
      "21723.0     1\n",
      "Name: count, Length: 15127, dtype: int64\n",
      "--------------------\n",
      "price day ahead\n",
      "40.00    179\n",
      "50.00    178\n",
      "45.00    151\n",
      "60.00    126\n",
      "55.00    116\n",
      "        ... \n",
      "73.61      1\n",
      "70.06      1\n",
      "12.70      1\n",
      "73.53      1\n",
      "71.97      1\n",
      "Name: count, Length: 5747, dtype: int64\n",
      "--------------------\n",
      "price actual\n",
      "56.85    24\n",
      "55.91    22\n",
      "56.71    22\n",
      "52.35    21\n",
      "51.33    21\n",
      "         ..\n",
      "17.96     1\n",
      "17.47     1\n",
      "16.34     1\n",
      "18.41     1\n",
      "80.10     1\n",
      "Name: count, Length: 6653, dtype: int64\n",
      "--------------------\n"
     ]
    }
   ],
   "source": [
    "# get the unique values count for each column\n",
    "for column in df_energy.columns:\n",
    "    print(df_energy[column].value_counts())\n",
    "    print('-'*20)"
   ]
  },
  {
   "cell_type": "markdown",
   "id": "df672a2f",
   "metadata": {},
   "source": [
    "- Columns of *'generation fossil coal-derived gas', 'generation fossil oil shale', 'generation fossil peat', 'generation geothermal', 'generation marine', 'generation wind offshore'* have all record values as zero."
   ]
  },
  {
   "cell_type": "code",
   "execution_count": 61,
   "id": "50a8f154",
   "metadata": {
    "ExecuteTime": {
     "end_time": "2023-07-23T22:45:41.640373Z",
     "start_time": "2023-07-23T22:45:41.632809Z"
    }
   },
   "outputs": [
    {
     "name": "stdout",
     "output_type": "stream",
     "text": [
      "generation biomass                             0\n",
      "generation fossil brown coal/lignite           0\n",
      "generation fossil coal-derived gas             0\n",
      "generation fossil gas                          0\n",
      "generation fossil hard coal                    0\n",
      "generation fossil oil                          0\n",
      "generation fossil oil shale                    0\n",
      "generation fossil peat                         0\n",
      "generation geothermal                          0\n",
      "generation hydro pumped storage aggregated     0\n",
      "generation hydro pumped storage consumption    0\n",
      "generation hydro run-of-river and poundage     0\n",
      "generation hydro water reservoir               0\n",
      "generation marine                              0\n",
      "generation nuclear                             0\n",
      "generation other                               0\n",
      "generation other renewable                     0\n",
      "generation solar                               0\n",
      "generation waste                               0\n",
      "generation wind offshore                       0\n",
      "generation wind onshore                        0\n",
      "forecast solar day ahead                       0\n",
      "forecast wind offshore eday ahead              0\n",
      "forecast wind onshore day ahead                0\n",
      "total load forecast                            0\n",
      "total load actual                              0\n",
      "price day ahead                                0\n",
      "price actual                                   0\n",
      "dtype: int64\n"
     ]
    }
   ],
   "source": [
    "# count the negative values for each numeric column\n",
    "print((df_energy.select_dtypes(include='number') < 0).sum())"
   ]
  },
  {
   "cell_type": "markdown",
   "id": "23408fd7",
   "metadata": {},
   "source": [
    "- No columns contain negative values."
   ]
  },
  {
   "cell_type": "markdown",
   "id": "46971388",
   "metadata": {},
   "source": [
    "## df_weather"
   ]
  },
  {
   "cell_type": "code",
   "execution_count": 62,
   "id": "fc471397",
   "metadata": {
    "ExecuteTime": {
     "end_time": "2023-07-23T22:45:41.726841Z",
     "start_time": "2023-07-23T22:45:41.640373Z"
    },
    "scrolled": true
   },
   "outputs": [
    {
     "name": "stdout",
     "output_type": "stream",
     "text": [
      "dt_iso\n",
      "2015-10-01 02:00:00+02:00    10\n",
      "2017-09-30 02:00:00+02:00    10\n",
      "2016-09-30 02:00:00+02:00    10\n",
      "2018-09-30 02:00:00+02:00    10\n",
      "2018-02-28 09:00:00+01:00    10\n",
      "                             ..\n",
      "2016-05-06 17:00:00+02:00     5\n",
      "2016-05-06 15:00:00+02:00     5\n",
      "2016-05-06 14:00:00+02:00     5\n",
      "2016-05-06 13:00:00+02:00     5\n",
      "2018-12-31 23:00:00+01:00     5\n",
      "Name: count, Length: 35064, dtype: int64\n",
      "--------------------\n",
      "city_name\n",
      "Madrid        36267\n",
      "Bilbao        35951\n",
      "Seville       35557\n",
      " Barcelona    35476\n",
      "Valencia      35145\n",
      "Name: count, dtype: int64\n",
      "--------------------\n",
      "temp\n",
      "286.150000    2105\n",
      "287.150000    2061\n",
      "289.150000    2041\n",
      "288.150000    1981\n",
      "285.150000    1870\n",
      "              ... \n",
      "270.914000       1\n",
      "272.171000       1\n",
      "276.308656       1\n",
      "279.189344       1\n",
      "280.150500       1\n",
      "Name: count, Length: 20743, dtype: int64\n",
      "--------------------\n",
      "temp_min\n",
      "288.150000    6028\n",
      "286.150000    5706\n",
      "287.150000    5628\n",
      "289.150000    5582\n",
      "285.150000    5417\n",
      "              ... \n",
      "279.753312       1\n",
      "281.277688       1\n",
      "280.667500       1\n",
      "283.004656       1\n",
      "280.150500       1\n",
      "Name: count, Length: 18553, dtype: int64\n",
      "--------------------\n",
      "temp_max\n",
      "288.150000    5574\n",
      "289.150000    5501\n",
      "287.150000    5354\n",
      "286.150000    5338\n",
      "290.150000    5324\n",
      "              ... \n",
      "283.004656       1\n",
      "281.797500       1\n",
      "281.564000       1\n",
      "280.254344       1\n",
      "280.150500       1\n",
      "Name: count, Length: 18591, dtype: int64\n",
      "--------------------\n",
      "pressure\n",
      "1017       11414\n",
      "1016       11357\n",
      "1018       11321\n",
      "1019       10500\n",
      "1015       10468\n",
      "           ...  \n",
      "1001781        1\n",
      "1001501        1\n",
      "1000951        1\n",
      "100078         1\n",
      "1090           1\n",
      "Name: count, Length: 190, dtype: int64\n",
      "--------------------\n",
      "humidity\n",
      "93     15920\n",
      "100    10128\n",
      "87      9781\n",
      "82      5869\n",
      "81      4994\n",
      "       ...  \n",
      "6          4\n",
      "3          3\n",
      "4          2\n",
      "2          2\n",
      "5          1\n",
      "Name: count, Length: 100, dtype: int64\n",
      "--------------------\n",
      "wind_speed\n",
      "1      55201\n",
      "2      34548\n",
      "3      25036\n",
      "0      18490\n",
      "4      18313\n",
      "5      11683\n",
      "6       6794\n",
      "7       3779\n",
      "8       2127\n",
      "9       1154\n",
      "10       533\n",
      "11       327\n",
      "12       203\n",
      "13        49\n",
      "14        46\n",
      "17        21\n",
      "15        18\n",
      "16        18\n",
      "20        16\n",
      "22        10\n",
      "19         8\n",
      "24         4\n",
      "25         3\n",
      "30         3\n",
      "35         1\n",
      "33         1\n",
      "64         1\n",
      "27         1\n",
      "54         1\n",
      "40         1\n",
      "38         1\n",
      "21         1\n",
      "29         1\n",
      "43         1\n",
      "133        1\n",
      "18         1\n",
      "Name: count, dtype: int64\n",
      "--------------------\n",
      "wind_deg\n",
      "0      24920\n",
      "220     5111\n",
      "320     4419\n",
      "330     4314\n",
      "230     4131\n",
      "       ...  \n",
      "359       77\n",
      "357       77\n",
      "354       74\n",
      "147       69\n",
      "137       65\n",
      "Name: count, Length: 361, dtype: int64\n",
      "--------------------\n",
      "rain_1h\n",
      "0.00     159008\n",
      "0.30      12795\n",
      "0.90       5196\n",
      "3.00       1310\n",
      "12.00        85\n",
      "2.29          1\n",
      "0.25          1\n",
      "Name: count, dtype: int64\n",
      "--------------------\n",
      "rain_3h\n",
      "0.0000    176541\n",
      "0.0100       214\n",
      "0.0050       187\n",
      "0.0150       128\n",
      "0.0250        74\n",
      "           ...  \n",
      "0.0525         2\n",
      "0.0730         2\n",
      "0.0830         1\n",
      "2.3150         1\n",
      "0.0530         1\n",
      "Name: count, Length: 89, dtype: int64\n",
      "--------------------\n",
      "snow_3h\n",
      "0.000    178129\n",
      "1.500        15\n",
      "2.700        15\n",
      "0.700        12\n",
      "0.200        12\n",
      "          ...  \n",
      "0.001         2\n",
      "1.049         1\n",
      "1.187         1\n",
      "0.243         1\n",
      "0.335         1\n",
      "Name: count, Length: 66, dtype: int64\n",
      "--------------------\n",
      "clouds_all\n",
      "0     82194\n",
      "20    31002\n",
      "75    21940\n",
      "40    13668\n",
      "92     4380\n",
      "      ...  \n",
      "97        2\n",
      "63        2\n",
      "96        1\n",
      "11        1\n",
      "93        1\n",
      "Name: count, Length: 97, dtype: int64\n",
      "--------------------\n",
      "weather_id\n",
      "800    82685\n",
      "801    32101\n",
      "803    17448\n",
      "802    15945\n",
      "500    10905\n",
      "701     3908\n",
      "501     3625\n",
      "804     2561\n",
      "741     2506\n",
      "300     1241\n",
      "502     1142\n",
      "521      902\n",
      "211      789\n",
      "520      657\n",
      "721      435\n",
      "301      371\n",
      "761      345\n",
      "600      140\n",
      "201      127\n",
      "200       92\n",
      "522       81\n",
      "310       79\n",
      "503       78\n",
      "601       74\n",
      "711       33\n",
      "202       31\n",
      "615       20\n",
      "311       19\n",
      "302       14\n",
      "616       13\n",
      "611       13\n",
      "612        4\n",
      "602        3\n",
      "620        3\n",
      "210        2\n",
      "731        2\n",
      "531        1\n",
      "771        1\n",
      "Name: count, dtype: int64\n",
      "--------------------\n",
      "weather_main\n",
      "clear           82685\n",
      "clouds          68055\n",
      "rain            17391\n",
      "mist             3908\n",
      "fog              2506\n",
      "drizzle          1724\n",
      "thunderstorm     1041\n",
      "haze              435\n",
      "dust              347\n",
      "snow              270\n",
      "smoke              33\n",
      "squall              1\n",
      "Name: count, dtype: int64\n",
      "--------------------\n",
      "weather_description\n",
      "sky is clear                    82685\n",
      "few clouds                      32101\n",
      "broken clouds                   17448\n",
      "scattered clouds                15945\n",
      "light rain                      10905\n",
      "mist                             3908\n",
      "moderate rain                    3621\n",
      "overcast clouds                  2561\n",
      "fog                              2506\n",
      "light intensity drizzle          1241\n",
      "heavy intensity rain             1142\n",
      "light intensity shower rain       657\n",
      "proximity thunderstorm            480\n",
      "proximity shower rain             476\n",
      "haze                              435\n",
      "shower rain                       426\n",
      "drizzle                           369\n",
      "dust                              345\n",
      "thunderstorm                      309\n",
      "light snow                        140\n",
      "thunderstorm with rain            127\n",
      "thunderstorm with light rain       92\n",
      "heavy intensity shower rain        81\n",
      "light intensity drizzle rain       79\n",
      "very heavy rain                    78\n",
      "snow                               74\n",
      "smoke                              33\n",
      "thunderstorm with heavy rain       31\n",
      "light rain and snow                20\n",
      "rain and drizzle                   19\n",
      "heavy intensity drizzle            14\n",
      "rain and snow                      13\n",
      "sleet                              13\n",
      "proximity moderate rain             4\n",
      "heavy snow                          3\n",
      "light shower sleet                  3\n",
      "light shower snow                   3\n",
      "light thunderstorm                  2\n",
      "sand dust whirls                    2\n",
      "proximity drizzle                   2\n",
      "shower sleet                        1\n",
      "ragged shower rain                  1\n",
      "squalls                             1\n",
      "Name: count, dtype: int64\n",
      "--------------------\n",
      "weather_icon\n",
      "01n    38541\n",
      "01d    34830\n",
      "02d    19199\n",
      "02n    12368\n",
      "04d     9137\n",
      "04n     8403\n",
      "03d     7870\n",
      "10n     5951\n",
      "01      5946\n",
      "03n     5833\n",
      "10      4917\n",
      "10d     4882\n",
      "50n     4288\n",
      "02      3902\n",
      "50d     2942\n",
      "04      2469\n",
      "03      2242\n",
      "09d     1976\n",
      "09n     1389\n",
      "11d      624\n",
      "11n      417\n",
      "13d      130\n",
      "13n      103\n",
      "13        37\n",
      "Name: count, dtype: int64\n",
      "--------------------\n"
     ]
    }
   ],
   "source": [
    "# get the unique values count for each column\n",
    "for column in df_weather.columns:\n",
    "    print(df_weather[column].value_counts())\n",
    "    print('-'*20)"
   ]
  },
  {
   "cell_type": "markdown",
   "id": "ee3ba9e2",
   "metadata": {},
   "source": [
    "- weather_id seems to match with weather_description.\n",
    "- weather_icon represents the id of the display icon used."
   ]
  },
  {
   "cell_type": "code",
   "execution_count": 63,
   "id": "c8240db3",
   "metadata": {
    "ExecuteTime": {
     "end_time": "2023-07-23T22:45:41.740788Z",
     "start_time": "2023-07-23T22:45:41.727849Z"
    }
   },
   "outputs": [
    {
     "name": "stdout",
     "output_type": "stream",
     "text": [
      "temp          0\n",
      "temp_min      0\n",
      "temp_max      0\n",
      "pressure      0\n",
      "humidity      0\n",
      "wind_speed    0\n",
      "wind_deg      0\n",
      "rain_1h       0\n",
      "rain_3h       0\n",
      "snow_3h       0\n",
      "clouds_all    0\n",
      "weather_id    0\n",
      "dtype: int64\n"
     ]
    }
   ],
   "source": [
    "# count the zero values for each numeric column\n",
    "print((df_weather.select_dtypes(include='number') < 0).sum())"
   ]
  },
  {
   "cell_type": "markdown",
   "id": "cb581090",
   "metadata": {},
   "source": [
    "- no columns with negative values in df_weather."
   ]
  },
  {
   "cell_type": "code",
   "execution_count": 64,
   "id": "46262b95",
   "metadata": {
    "ExecuteTime": {
     "end_time": "2023-07-23T22:45:41.755879Z",
     "start_time": "2023-07-23T22:45:41.742297Z"
    }
   },
   "outputs": [
    {
     "name": "stdout",
     "output_type": "stream",
     "text": [
      "temp          0.000000\n",
      "temp_min      0.000000\n",
      "temp_max      0.000000\n",
      "pressure      0.000011\n",
      "humidity      0.000353\n",
      "wind_speed    0.103646\n",
      "wind_deg      0.139689\n",
      "rain_1h       0.891320\n",
      "rain_3h       0.989602\n",
      "snow_3h       0.998503\n",
      "clouds_all    0.460739\n",
      "weather_id    0.000000\n",
      "dtype: float64\n"
     ]
    }
   ],
   "source": [
    "print((df_weather.select_dtypes(include='number') == 0).sum()/df_weather.shape[0])"
   ]
  },
  {
   "cell_type": "markdown",
   "id": "e1f7f8d9",
   "metadata": {},
   "source": [
    "- almost all columns in rain_1h, rain_3h, snow_3h contain >89% zero values.\n",
    "- clouds_all having zero value means clear sky. (not dropping for now)"
   ]
  },
  {
   "cell_type": "markdown",
   "id": "0ec3f689",
   "metadata": {},
   "source": [
    "# Data Preparation"
   ]
  },
  {
   "cell_type": "markdown",
   "id": "92b5210b",
   "metadata": {},
   "source": [
    "## df_energy"
   ]
  },
  {
   "cell_type": "code",
   "execution_count": 65,
   "id": "0bc839e4",
   "metadata": {
    "ExecuteTime": {
     "end_time": "2023-07-23T22:45:41.764716Z",
     "start_time": "2023-07-23T22:45:41.756886Z"
    }
   },
   "outputs": [],
   "source": [
    "# drop columns with all null values\n",
    "columns_to_drop = ['generation hydro pumped storage aggregated', 'forecast wind offshore eday ahead']\n",
    "df_energy.drop(columns_to_drop, axis=1, inplace=True)"
   ]
  },
  {
   "cell_type": "code",
   "execution_count": 66,
   "id": "85df04dc",
   "metadata": {
    "ExecuteTime": {
     "end_time": "2023-07-23T22:45:41.774329Z",
     "start_time": "2023-07-23T22:45:41.765721Z"
    }
   },
   "outputs": [
    {
     "data": {
      "text/plain": [
       "time                                            0\n",
       "generation biomass                             19\n",
       "generation fossil brown coal/lignite           18\n",
       "generation fossil coal-derived gas             18\n",
       "generation fossil gas                          18\n",
       "generation fossil hard coal                    18\n",
       "generation fossil oil                          19\n",
       "generation fossil oil shale                    18\n",
       "generation fossil peat                         18\n",
       "generation geothermal                          18\n",
       "generation hydro pumped storage consumption    19\n",
       "generation hydro run-of-river and poundage     19\n",
       "generation hydro water reservoir               18\n",
       "generation marine                              19\n",
       "generation nuclear                             17\n",
       "generation other                               18\n",
       "generation other renewable                     18\n",
       "generation solar                               18\n",
       "generation waste                               19\n",
       "generation wind offshore                       18\n",
       "generation wind onshore                        18\n",
       "forecast solar day ahead                        0\n",
       "forecast wind onshore day ahead                 0\n",
       "total load forecast                             0\n",
       "total load actual                              36\n",
       "price day ahead                                 0\n",
       "price actual                                    0\n",
       "dtype: int64"
      ]
     },
     "execution_count": 66,
     "metadata": {},
     "output_type": "execute_result"
    }
   ],
   "source": [
    "df_energy.isnull().sum()"
   ]
  },
  {
   "cell_type": "code",
   "execution_count": 67,
   "id": "8c6833c5",
   "metadata": {
    "ExecuteTime": {
     "end_time": "2023-07-23T22:45:41.788441Z",
     "start_time": "2023-07-23T22:45:41.775333Z"
    }
   },
   "outputs": [
    {
     "name": "stdout",
     "output_type": "stream",
     "text": [
      "0     35017\n",
      "1        29\n",
      "21       12\n",
      "20        6\n",
      "Name: count, dtype: int64\n"
     ]
    }
   ],
   "source": [
    "# count the frequency of missing values in each row (i.e. how many columns are empty)\n",
    "print(df_energy.isnull().sum(axis=1).value_counts())"
   ]
  },
  {
   "cell_type": "code",
   "execution_count": 68,
   "id": "6ae0a9e5",
   "metadata": {
    "ExecuteTime": {
     "end_time": "2023-07-23T22:45:41.798115Z",
     "start_time": "2023-07-23T22:45:41.789448Z"
    }
   },
   "outputs": [],
   "source": [
    "# drop columns with all zero values\n",
    "columns_to_drop = ['generation fossil coal-derived gas', 'generation fossil oil shale', 'generation fossil peat', \n",
    "                   'generation geothermal', 'generation marine', 'generation wind offshore' ]\n",
    "df_energy.drop(columns_to_drop, axis=1, inplace=True)"
   ]
  },
  {
   "cell_type": "code",
   "execution_count": 69,
   "id": "4d82f57f",
   "metadata": {
    "ExecuteTime": {
     "end_time": "2023-07-23T22:45:41.810225Z",
     "start_time": "2023-07-23T22:45:41.800122Z"
    }
   },
   "outputs": [
    {
     "name": "stdout",
     "output_type": "stream",
     "text": [
      "0     35018\n",
      "1        28\n",
      "15       12\n",
      "14        6\n",
      "Name: count, dtype: int64\n"
     ]
    }
   ],
   "source": [
    "# count the frequency of missing values in each row (i.e. how many columns are empty)\n",
    "print(df_energy.isnull().sum(axis=1).value_counts())"
   ]
  },
  {
   "cell_type": "code",
   "execution_count": 70,
   "id": "ac0350e0",
   "metadata": {
    "ExecuteTime": {
     "end_time": "2023-07-23T22:45:41.821760Z",
     "start_time": "2023-07-23T22:45:41.812751Z"
    }
   },
   "outputs": [],
   "source": [
    "# remove the rows having null values\n",
    "df_energy = df_energy.dropna()"
   ]
  },
  {
   "cell_type": "code",
   "execution_count": 71,
   "id": "de72885b",
   "metadata": {
    "ExecuteTime": {
     "end_time": "2023-07-23T22:45:41.835215Z",
     "start_time": "2023-07-23T22:45:41.825277Z"
    }
   },
   "outputs": [
    {
     "name": "stdout",
     "output_type": "stream",
     "text": [
      "0    35018\n",
      "Name: count, dtype: int64\n"
     ]
    }
   ],
   "source": [
    "# count the frequency of missing values in each row (i.e. how many columns are empty)\n",
    "print(df_energy.isnull().sum(axis=1).value_counts())"
   ]
  },
  {
   "cell_type": "code",
   "execution_count": 72,
   "id": "696eebd2",
   "metadata": {
    "ExecuteTime": {
     "end_time": "2023-07-23T22:45:41.842281Z",
     "start_time": "2023-07-23T22:45:41.836221Z"
    }
   },
   "outputs": [
    {
     "data": {
      "text/plain": [
       "0        2015-01-01 00:00:00+01:00\n",
       "1        2015-01-01 01:00:00+01:00\n",
       "2        2015-01-01 02:00:00+01:00\n",
       "3        2015-01-01 03:00:00+01:00\n",
       "4        2015-01-01 04:00:00+01:00\n",
       "                   ...            \n",
       "35059    2018-12-31 19:00:00+01:00\n",
       "35060    2018-12-31 20:00:00+01:00\n",
       "35061    2018-12-31 21:00:00+01:00\n",
       "35062    2018-12-31 22:00:00+01:00\n",
       "35063    2018-12-31 23:00:00+01:00\n",
       "Name: time, Length: 35018, dtype: object"
      ]
     },
     "execution_count": 72,
     "metadata": {},
     "output_type": "execute_result"
    }
   ],
   "source": [
    "df_energy['time']"
   ]
  },
  {
   "cell_type": "code",
   "execution_count": 73,
   "id": "1da8951a",
   "metadata": {
    "ExecuteTime": {
     "end_time": "2023-07-23T22:45:42.052797Z",
     "start_time": "2023-07-23T22:45:41.843288Z"
    }
   },
   "outputs": [],
   "source": [
    "# Convert the column from string to datetime\n",
    "df_energy['time'] = pd.to_datetime(df_energy['time'], utc=True) # datetime values that are explicitly in UTC"
   ]
  },
  {
   "cell_type": "code",
   "execution_count": 74,
   "id": "6a43047e",
   "metadata": {
    "ExecuteTime": {
     "end_time": "2023-07-23T22:45:42.059521Z",
     "start_time": "2023-07-23T22:45:42.053802Z"
    }
   },
   "outputs": [
    {
     "data": {
      "text/plain": [
       "pandas._libs.tslibs.timestamps.Timestamp"
      ]
     },
     "execution_count": 74,
     "metadata": {},
     "output_type": "execute_result"
    }
   ],
   "source": [
    "type(df_energy['time'][0])"
   ]
  },
  {
   "cell_type": "code",
   "execution_count": 75,
   "id": "7e82d85f",
   "metadata": {
    "ExecuteTime": {
     "end_time": "2023-07-23T22:45:42.488825Z",
     "start_time": "2023-07-23T22:45:42.060533Z"
    }
   },
   "outputs": [],
   "source": [
    "# save the dataframe as csv\n",
    "df_energy.to_csv('data/df_energy_processed.csv', index=False)"
   ]
  },
  {
   "cell_type": "markdown",
   "id": "81dbb833",
   "metadata": {},
   "source": [
    "- We have taken care of all the missing and invalid datatypes and values. "
   ]
  },
  {
   "cell_type": "markdown",
   "id": "04f1eb7c",
   "metadata": {},
   "source": [
    "## df_weather"
   ]
  },
  {
   "cell_type": "code",
   "execution_count": 76,
   "id": "9ae45595",
   "metadata": {
    "ExecuteTime": {
     "end_time": "2023-07-23T22:45:42.506884Z",
     "start_time": "2023-07-23T22:45:42.489830Z"
    }
   },
   "outputs": [],
   "source": [
    "# 1. drop the columns with almost all zero values and icon\n",
    "df_weather.drop(['rain_1h', 'rain_3h', 'snow_3h', 'weather_icon'], axis=1, inplace=True)"
   ]
  },
  {
   "cell_type": "code",
   "execution_count": 77,
   "id": "c40adfcb",
   "metadata": {
    "ExecuteTime": {
     "end_time": "2023-07-23T22:45:42.600221Z",
     "start_time": "2023-07-23T22:45:42.507891Z"
    }
   },
   "outputs": [
    {
     "name": "stdout",
     "output_type": "stream",
     "text": [
      "77375\n",
      "temp              0\n",
      "temp_min          0\n",
      "temp_max          0\n",
      "pressure          0\n",
      "humidity         22\n",
      "wind_speed     4138\n",
      "wind_deg       7454\n",
      "clouds_all    65761\n",
      "weather_id        0\n",
      "dtype: int64\n"
     ]
    }
   ],
   "source": [
    "# count the frequency of missing values in each row (i.e. how many columns are empty)\n",
    "print(sum((df_weather.select_dtypes(include='number') == 0).sum(axis=1)==1))\n",
    "\n",
    "# get the indices\n",
    "indices = df_weather.index[(df_weather.select_dtypes(include='number') == 0).sum(axis=1)==1]\n",
    "temp = df_weather.iloc[indices]\n",
    "# count the zero values for each numeric column\n",
    "print((temp.select_dtypes(include='number') == 0).sum())"
   ]
  },
  {
   "cell_type": "code",
   "execution_count": 78,
   "id": "917e85ef",
   "metadata": {
    "ExecuteTime": {
     "end_time": "2023-07-23T22:45:42.605897Z",
     "start_time": "2023-07-23T22:45:42.601742Z"
    }
   },
   "outputs": [
    {
     "data": {
      "text/plain": [
       "Index(['dt_iso', 'city_name', 'temp', 'temp_min', 'temp_max', 'pressure',\n",
       "       'humidity', 'wind_speed', 'wind_deg', 'clouds_all', 'weather_id',\n",
       "       'weather_main', 'weather_description'],\n",
       "      dtype='object')"
      ]
     },
     "execution_count": 78,
     "metadata": {},
     "output_type": "execute_result"
    }
   ],
   "source": [
    "df_weather.columns"
   ]
  },
  {
   "cell_type": "code",
   "execution_count": 79,
   "id": "099544f3",
   "metadata": {
    "ExecuteTime": {
     "end_time": "2023-07-23T22:45:42.615211Z",
     "start_time": "2023-07-23T22:45:42.606902Z"
    }
   },
   "outputs": [
    {
     "name": "stdout",
     "output_type": "stream",
     "text": [
      "dt_iso :  <class 'str'>\n",
      "city_name :  <class 'str'>\n",
      "temp :  <class 'numpy.float64'>\n",
      "temp_min :  <class 'numpy.float64'>\n",
      "temp_max :  <class 'numpy.float64'>\n",
      "pressure :  <class 'numpy.int64'>\n",
      "humidity :  <class 'numpy.int64'>\n",
      "wind_speed :  <class 'numpy.int64'>\n",
      "wind_deg :  <class 'numpy.int64'>\n",
      "clouds_all :  <class 'numpy.int64'>\n",
      "weather_id :  <class 'numpy.int64'>\n",
      "weather_main :  <class 'str'>\n",
      "weather_description :  <class 'str'>\n"
     ]
    }
   ],
   "source": [
    "for i in df_weather.columns:\n",
    "    print(i,': ',type(df_weather[i][0]))"
   ]
  },
  {
   "cell_type": "code",
   "execution_count": 80,
   "id": "150576df",
   "metadata": {
    "ExecuteTime": {
     "end_time": "2023-07-23T22:45:43.361728Z",
     "start_time": "2023-07-23T22:45:42.616215Z"
    }
   },
   "outputs": [],
   "source": [
    "# 2. Convert the column from string to datetime\n",
    "df_weather['dt_iso'] = pd.to_datetime(df_weather['dt_iso'], utc=True)"
   ]
  },
  {
   "cell_type": "code",
   "execution_count": 81,
   "id": "969fb394",
   "metadata": {
    "ExecuteTime": {
     "end_time": "2023-07-23T22:45:43.405477Z",
     "start_time": "2023-07-23T22:45:43.362735Z"
    }
   },
   "outputs": [
    {
     "name": "stdout",
     "output_type": "stream",
     "text": [
      "city_name\n",
      "Madrid        36267\n",
      "Bilbao        35951\n",
      "Seville       35557\n",
      " Barcelona    35476\n",
      "Valencia      35145\n",
      "Name: count, dtype: int64\n",
      "city_name\n",
      "Madrid       36267\n",
      "Bilbao       35951\n",
      "Seville      35557\n",
      "Barcelona    35476\n",
      "Valencia     35145\n",
      "Name: count, dtype: int64\n"
     ]
    }
   ],
   "source": [
    "# 3. trim the string values in city_name\n",
    "print(df_weather['city_name'].value_counts())\n",
    "df_weather['city_name'] = df_weather['city_name'].str.strip()\n",
    "print(df_weather['city_name'].value_counts())"
   ]
  },
  {
   "cell_type": "code",
   "execution_count": 82,
   "id": "6454816a",
   "metadata": {
    "ExecuteTime": {
     "end_time": "2023-07-23T22:45:44.694462Z",
     "start_time": "2023-07-23T22:45:43.406486Z"
    }
   },
   "outputs": [],
   "source": [
    "# save the dataframe as csv\n",
    "df_weather.to_csv('data/df_weather_processed.csv', index=False)"
   ]
  },
  {
   "cell_type": "markdown",
   "id": "76b03a9f",
   "metadata": {},
   "source": [
    "# Merge two datasets"
   ]
  },
  {
   "cell_type": "code",
   "execution_count": 83,
   "id": "1113cef1",
   "metadata": {
    "ExecuteTime": {
     "end_time": "2023-07-23T22:45:44.700419Z",
     "start_time": "2023-07-23T22:45:44.695799Z"
    }
   },
   "outputs": [
    {
     "data": {
      "text/plain": [
       "Index(['time', 'generation biomass', 'generation fossil brown coal/lignite',\n",
       "       'generation fossil gas', 'generation fossil hard coal',\n",
       "       'generation fossil oil', 'generation hydro pumped storage consumption',\n",
       "       'generation hydro run-of-river and poundage',\n",
       "       'generation hydro water reservoir', 'generation nuclear',\n",
       "       'generation other', 'generation other renewable', 'generation solar',\n",
       "       'generation waste', 'generation wind onshore',\n",
       "       'forecast solar day ahead', 'forecast wind onshore day ahead',\n",
       "       'total load forecast', 'total load actual', 'price day ahead',\n",
       "       'price actual'],\n",
       "      dtype='object')"
      ]
     },
     "execution_count": 83,
     "metadata": {},
     "output_type": "execute_result"
    }
   ],
   "source": [
    "df_energy.columns"
   ]
  },
  {
   "cell_type": "code",
   "execution_count": 84,
   "id": "0a9a36f2",
   "metadata": {
    "ExecuteTime": {
     "end_time": "2023-07-23T22:45:44.709091Z",
     "start_time": "2023-07-23T22:45:44.701936Z"
    }
   },
   "outputs": [
    {
     "data": {
      "text/plain": [
       "Index(['dt_iso', 'city_name', 'temp', 'temp_min', 'temp_max', 'pressure',\n",
       "       'humidity', 'wind_speed', 'wind_deg', 'clouds_all', 'weather_id',\n",
       "       'weather_main', 'weather_description'],\n",
       "      dtype='object')"
      ]
     },
     "execution_count": 84,
     "metadata": {},
     "output_type": "execute_result"
    }
   ],
   "source": [
    "df_weather.columns"
   ]
  },
  {
   "cell_type": "code",
   "execution_count": 85,
   "id": "e19e7e47",
   "metadata": {
    "ExecuteTime": {
     "end_time": "2023-07-23T22:45:44.718932Z",
     "start_time": "2023-07-23T22:45:44.710097Z"
    }
   },
   "outputs": [
    {
     "data": {
      "text/plain": [
       "0        2014-12-31 23:00:00+00:00\n",
       "1        2015-01-01 00:00:00+00:00\n",
       "2        2015-01-01 01:00:00+00:00\n",
       "3        2015-01-01 02:00:00+00:00\n",
       "4        2015-01-01 03:00:00+00:00\n",
       "                    ...           \n",
       "178391   2018-12-31 18:00:00+00:00\n",
       "178392   2018-12-31 19:00:00+00:00\n",
       "178393   2018-12-31 20:00:00+00:00\n",
       "178394   2018-12-31 21:00:00+00:00\n",
       "178395   2018-12-31 22:00:00+00:00\n",
       "Name: dt_iso, Length: 178396, dtype: datetime64[ns, UTC]"
      ]
     },
     "execution_count": 85,
     "metadata": {},
     "output_type": "execute_result"
    }
   ],
   "source": [
    "df_weather['dt_iso']"
   ]
  },
  {
   "cell_type": "code",
   "execution_count": 86,
   "id": "f2aaae01",
   "metadata": {
    "ExecuteTime": {
     "end_time": "2023-07-23T22:45:44.810788Z",
     "start_time": "2023-07-23T22:45:44.719937Z"
    }
   },
   "outputs": [
    {
     "data": {
      "text/plain": [
       "(21, 13)"
      ]
     },
     "execution_count": 86,
     "metadata": {},
     "output_type": "execute_result"
    }
   ],
   "source": [
    "# Find duplicate rows in the DataFrame\n",
    "duplicates = df_weather.duplicated()\n",
    "duplicate_rows = df_weather[duplicates]\n",
    "duplicate_rows.shape"
   ]
  },
  {
   "cell_type": "code",
   "execution_count": 87,
   "id": "1b964c2f",
   "metadata": {
    "ExecuteTime": {
     "end_time": "2023-07-23T22:45:44.824262Z",
     "start_time": "2023-07-23T22:45:44.811793Z"
    }
   },
   "outputs": [
    {
     "data": {
      "text/plain": [
       "city_name\n",
       "Madrid       36267\n",
       "Bilbao       35951\n",
       "Seville      35557\n",
       "Barcelona    35476\n",
       "Valencia     35145\n",
       "Name: count, dtype: int64"
      ]
     },
     "execution_count": 87,
     "metadata": {},
     "output_type": "execute_result"
    }
   ],
   "source": [
    "df_weather['city_name'].value_counts()"
   ]
  },
  {
   "cell_type": "markdown",
   "id": "d60e95c7",
   "metadata": {},
   "source": [
    "- df_energy and df_weather cannot be merged yet. There are many duplicates for every city in df_weather and we should drop them and see if their number of rows match."
   ]
  },
  {
   "cell_type": "code",
   "execution_count": 88,
   "id": "0e2e27fe",
   "metadata": {
    "ExecuteTime": {
     "end_time": "2023-07-23T22:45:44.879697Z",
     "start_time": "2023-07-23T22:45:44.825864Z"
    }
   },
   "outputs": [
    {
     "data": {
      "text/plain": [
       "city_name\n",
       "Valencia     35064\n",
       "Madrid       35064\n",
       "Bilbao       35064\n",
       "Barcelona    35064\n",
       "Seville      35064\n",
       "Name: count, dtype: int64"
      ]
     },
     "execution_count": 88,
     "metadata": {},
     "output_type": "execute_result"
    }
   ],
   "source": [
    "df_weather.drop_duplicates(subset=['dt_iso', 'city_name'], keep='first', inplace=True)\n",
    "df_weather['city_name'].value_counts()"
   ]
  },
  {
   "cell_type": "code",
   "execution_count": 89,
   "id": "58fe087c",
   "metadata": {
    "ExecuteTime": {
     "end_time": "2023-07-23T22:45:44.906429Z",
     "start_time": "2023-07-23T22:45:44.880704Z"
    }
   },
   "outputs": [
    {
     "data": {
      "text/plain": [
       "0"
      ]
     },
     "execution_count": 89,
     "metadata": {},
     "output_type": "execute_result"
    }
   ],
   "source": [
    "df_weather.duplicated(subset=['dt_iso', 'city_name'], keep='first').sum()"
   ]
  },
  {
   "cell_type": "markdown",
   "id": "a68ab087",
   "metadata": {},
   "source": [
    "- we have zero duplicates in df_weather"
   ]
  },
  {
   "cell_type": "code",
   "execution_count": 90,
   "id": "a79a30a2",
   "metadata": {
    "ExecuteTime": {
     "end_time": "2023-07-23T22:45:44.967071Z",
     "start_time": "2023-07-23T22:45:44.907435Z"
    }
   },
   "outputs": [],
   "source": [
    "# join the two datasets on time and date_iso\n",
    "merged_df = pd.merge(df_energy, df_weather, left_on='time', right_on='dt_iso', how='inner')"
   ]
  },
  {
   "cell_type": "code",
   "execution_count": 91,
   "id": "e8383ee8",
   "metadata": {
    "ExecuteTime": {
     "end_time": "2023-07-23T22:45:44.982096Z",
     "start_time": "2023-07-23T22:45:44.968077Z"
    }
   },
   "outputs": [
    {
     "name": "stdout",
     "output_type": "stream",
     "text": [
      "                       time  generation biomass  \\\n",
      "0 2014-12-31 23:00:00+00:00               447.0   \n",
      "1 2014-12-31 23:00:00+00:00               447.0   \n",
      "2 2014-12-31 23:00:00+00:00               447.0   \n",
      "3 2014-12-31 23:00:00+00:00               447.0   \n",
      "4 2014-12-31 23:00:00+00:00               447.0   \n",
      "\n",
      "   generation fossil brown coal/lignite  generation fossil gas  \\\n",
      "0                                 329.0                 4844.0   \n",
      "1                                 329.0                 4844.0   \n",
      "2                                 329.0                 4844.0   \n",
      "3                                 329.0                 4844.0   \n",
      "4                                 329.0                 4844.0   \n",
      "\n",
      "   generation fossil hard coal  generation fossil oil  \\\n",
      "0                       4821.0                  162.0   \n",
      "1                       4821.0                  162.0   \n",
      "2                       4821.0                  162.0   \n",
      "3                       4821.0                  162.0   \n",
      "4                       4821.0                  162.0   \n",
      "\n",
      "   generation hydro pumped storage consumption  \\\n",
      "0                                        863.0   \n",
      "1                                        863.0   \n",
      "2                                        863.0   \n",
      "3                                        863.0   \n",
      "4                                        863.0   \n",
      "\n",
      "   generation hydro run-of-river and poundage  \\\n",
      "0                                      1051.0   \n",
      "1                                      1051.0   \n",
      "2                                      1051.0   \n",
      "3                                      1051.0   \n",
      "4                                      1051.0   \n",
      "\n",
      "   generation hydro water reservoir  generation nuclear  generation other  \\\n",
      "0                            1899.0              7096.0              43.0   \n",
      "1                            1899.0              7096.0              43.0   \n",
      "2                            1899.0              7096.0              43.0   \n",
      "3                            1899.0              7096.0              43.0   \n",
      "4                            1899.0              7096.0              43.0   \n",
      "\n",
      "   generation other renewable  generation solar  generation waste  \\\n",
      "0                        73.0              49.0             196.0   \n",
      "1                        73.0              49.0             196.0   \n",
      "2                        73.0              49.0             196.0   \n",
      "3                        73.0              49.0             196.0   \n",
      "4                        73.0              49.0             196.0   \n",
      "\n",
      "   generation wind onshore  forecast solar day ahead  \\\n",
      "0                   6378.0                      17.0   \n",
      "1                   6378.0                      17.0   \n",
      "2                   6378.0                      17.0   \n",
      "3                   6378.0                      17.0   \n",
      "4                   6378.0                      17.0   \n",
      "\n",
      "   forecast wind onshore day ahead  total load forecast  total load actual  \\\n",
      "0                           6436.0              26118.0            25385.0   \n",
      "1                           6436.0              26118.0            25385.0   \n",
      "2                           6436.0              26118.0            25385.0   \n",
      "3                           6436.0              26118.0            25385.0   \n",
      "4                           6436.0              26118.0            25385.0   \n",
      "\n",
      "   price day ahead  price actual                    dt_iso  city_name  \\\n",
      "0             50.1         65.41 2014-12-31 23:00:00+00:00   Valencia   \n",
      "1             50.1         65.41 2014-12-31 23:00:00+00:00     Madrid   \n",
      "2             50.1         65.41 2014-12-31 23:00:00+00:00     Bilbao   \n",
      "3             50.1         65.41 2014-12-31 23:00:00+00:00  Barcelona   \n",
      "4             50.1         65.41 2014-12-31 23:00:00+00:00    Seville   \n",
      "\n",
      "         temp    temp_min    temp_max  pressure  humidity  wind_speed  \\\n",
      "0  270.475000  270.475000  270.475000      1001        77           1   \n",
      "1  267.325000  267.325000  267.325000       971        63           1   \n",
      "2  269.657312  269.657312  269.657312      1036        97           0   \n",
      "3  281.625000  281.625000  281.625000      1035       100           7   \n",
      "4  273.375000  273.375000  273.375000      1039        75           1   \n",
      "\n",
      "   wind_deg  clouds_all  weather_id weather_main weather_description  \n",
      "0        62           0         800        clear        sky is clear  \n",
      "1       309           0         800        clear        sky is clear  \n",
      "2       226           0         800        clear        sky is clear  \n",
      "3        58           0         800        clear        sky is clear  \n",
      "4        21           0         800        clear        sky is clear  \n"
     ]
    }
   ],
   "source": [
    "pd.set_option('display.max_columns', None) \n",
    "print(merged_df.head())"
   ]
  },
  {
   "cell_type": "code",
   "execution_count": 92,
   "id": "eda303a9",
   "metadata": {
    "ExecuteTime": {
     "end_time": "2023-07-23T22:45:45.013676Z",
     "start_time": "2023-07-23T22:45:44.983102Z"
    }
   },
   "outputs": [
    {
     "name": "stdout",
     "output_type": "stream",
     "text": [
      "<class 'pandas.core.frame.DataFrame'>\n",
      "RangeIndex: 175090 entries, 0 to 175089\n",
      "Data columns (total 34 columns):\n",
      " #   Column                                       Non-Null Count   Dtype              \n",
      "---  ------                                       --------------   -----              \n",
      " 0   time                                         175090 non-null  datetime64[ns, UTC]\n",
      " 1   generation biomass                           175090 non-null  float64            \n",
      " 2   generation fossil brown coal/lignite         175090 non-null  float64            \n",
      " 3   generation fossil gas                        175090 non-null  float64            \n",
      " 4   generation fossil hard coal                  175090 non-null  float64            \n",
      " 5   generation fossil oil                        175090 non-null  float64            \n",
      " 6   generation hydro pumped storage consumption  175090 non-null  float64            \n",
      " 7   generation hydro run-of-river and poundage   175090 non-null  float64            \n",
      " 8   generation hydro water reservoir             175090 non-null  float64            \n",
      " 9   generation nuclear                           175090 non-null  float64            \n",
      " 10  generation other                             175090 non-null  float64            \n",
      " 11  generation other renewable                   175090 non-null  float64            \n",
      " 12  generation solar                             175090 non-null  float64            \n",
      " 13  generation waste                             175090 non-null  float64            \n",
      " 14  generation wind onshore                      175090 non-null  float64            \n",
      " 15  forecast solar day ahead                     175090 non-null  float64            \n",
      " 16  forecast wind onshore day ahead              175090 non-null  float64            \n",
      " 17  total load forecast                          175090 non-null  float64            \n",
      " 18  total load actual                            175090 non-null  float64            \n",
      " 19  price day ahead                              175090 non-null  float64            \n",
      " 20  price actual                                 175090 non-null  float64            \n",
      " 21  dt_iso                                       175090 non-null  datetime64[ns, UTC]\n",
      " 22  city_name                                    175090 non-null  object             \n",
      " 23  temp                                         175090 non-null  float64            \n",
      " 24  temp_min                                     175090 non-null  float64            \n",
      " 25  temp_max                                     175090 non-null  float64            \n",
      " 26  pressure                                     175090 non-null  int64              \n",
      " 27  humidity                                     175090 non-null  int64              \n",
      " 28  wind_speed                                   175090 non-null  int64              \n",
      " 29  wind_deg                                     175090 non-null  int64              \n",
      " 30  clouds_all                                   175090 non-null  int64              \n",
      " 31  weather_id                                   175090 non-null  int64              \n",
      " 32  weather_main                                 175090 non-null  object             \n",
      " 33  weather_description                          175090 non-null  object             \n",
      "dtypes: datetime64[ns, UTC](2), float64(23), int64(6), object(3)\n",
      "memory usage: 45.4+ MB\n"
     ]
    }
   ],
   "source": [
    "merged_df.info()"
   ]
  },
  {
   "cell_type": "code",
   "execution_count": 93,
   "id": "7857f452",
   "metadata": {
    "ExecuteTime": {
     "end_time": "2023-07-23T22:45:45.048874Z",
     "start_time": "2023-07-23T22:45:45.014682Z"
    }
   },
   "outputs": [],
   "source": [
    "# Remove rows of year 2014 as there are less values\n",
    "merged_df = merged_df[merged_df['time'].dt.year != 2014]"
   ]
  },
  {
   "cell_type": "code",
   "execution_count": 94,
   "id": "626b298b",
   "metadata": {
    "ExecuteTime": {
     "end_time": "2023-07-23T22:45:45.069579Z",
     "start_time": "2023-07-23T22:45:45.049881Z"
    }
   },
   "outputs": [],
   "source": [
    "# drop duplicate dt_iso column\n",
    "merged_df.drop(['dt_iso'], axis=1, inplace=True)"
   ]
  },
  {
   "cell_type": "code",
   "execution_count": 95,
   "id": "baf30821",
   "metadata": {
    "ExecuteTime": {
     "end_time": "2023-07-23T22:45:47.941229Z",
     "start_time": "2023-07-23T22:45:45.070584Z"
    }
   },
   "outputs": [],
   "source": [
    "# save the dataframe as csv\n",
    "merged_df.to_csv('data/df.csv', index=False)"
   ]
  }
 ],
 "metadata": {
  "kernelspec": {
   "display_name": "electricity",
   "language": "python",
   "name": "electricity"
  },
  "language_info": {
   "codemirror_mode": {
    "name": "ipython",
    "version": 3
   },
   "file_extension": ".py",
   "mimetype": "text/x-python",
   "name": "python",
   "nbconvert_exporter": "python",
   "pygments_lexer": "ipython3",
   "version": "3.11.4"
  }
 },
 "nbformat": 4,
 "nbformat_minor": 5
}
