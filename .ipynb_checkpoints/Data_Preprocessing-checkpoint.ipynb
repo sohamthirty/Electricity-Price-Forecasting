{
 "cells": [
  {
   "cell_type": "code",
   "execution_count": 1,
   "id": "edb3f174",
   "metadata": {
    "ExecuteTime": {
     "end_time": "2023-07-23T21:06:00.589984Z",
     "start_time": "2023-07-23T21:06:00.080652Z"
    }
   },
   "outputs": [],
   "source": [
    "import pandas as pd\n",
    "import numpy as np\n",
    "import matplotlib.pyplot as plt"
   ]
  },
  {
   "cell_type": "markdown",
   "id": "510932e2",
   "metadata": {},
   "source": [
    "link - https://www.kaggle.com/datasets/nicholasjhana/energy-consumption-generation-prices-and-weather\n"
   ]
  },
  {
   "cell_type": "markdown",
   "id": "e95f4dbc",
   "metadata": {},
   "source": [
    "# Load the data"
   ]
  },
  {
   "cell_type": "code",
   "execution_count": 2,
   "id": "cb025f4a",
   "metadata": {
    "ExecuteTime": {
     "end_time": "2023-07-23T21:06:02.043237Z",
     "start_time": "2023-07-23T21:06:01.710965Z"
    }
   },
   "outputs": [],
   "source": [
    "# load the data\n",
    "df_energy = pd.read_csv('data/energy_dataset.csv')\n",
    "df_weather = pd.read_csv('data/weather_features.csv')"
   ]
  },
  {
   "cell_type": "markdown",
   "id": "a67d53b2",
   "metadata": {},
   "source": [
    "# Inspect the data"
   ]
  },
  {
   "cell_type": "markdown",
   "id": "5a7ca019",
   "metadata": {},
   "source": [
    "## df_energy"
   ]
  },
  {
   "cell_type": "code",
   "execution_count": 3,
   "id": "b0dda730",
   "metadata": {
    "ExecuteTime": {
     "end_time": "2023-07-23T21:06:06.097701Z",
     "start_time": "2023-07-23T21:06:06.085719Z"
    }
   },
   "outputs": [],
   "source": [
    "print(df_energy.head())"
   ]
  },
  {
   "cell_type": "code",
   "execution_count": 4,
   "id": "0ba987a8",
   "metadata": {
    "ExecuteTime": {
     "end_time": "2023-07-23T21:06:07.125320Z",
     "start_time": "2023-07-23T21:06:07.110827Z"
    }
   },
   "outputs": [],
   "source": [
    "df_energy.shape"
   ]
  },
  {
   "cell_type": "code",
   "execution_count": 5,
   "id": "18ebad56",
   "metadata": {
    "ExecuteTime": {
     "end_time": "2023-07-23T21:06:07.858416Z",
     "start_time": "2023-07-23T21:06:07.840751Z"
    }
   },
   "outputs": [],
   "source": [
    "df_energy.info()"
   ]
  },
  {
   "cell_type": "code",
   "execution_count": 6,
   "id": "4c676df5",
   "metadata": {
    "ExecuteTime": {
     "end_time": "2023-07-23T21:06:08.820896Z",
     "start_time": "2023-07-23T21:06:08.811070Z"
    }
   },
   "outputs": [],
   "source": [
    "# time should be datetime not string\n",
    "type(df_energy['time'][0])"
   ]
  },
  {
   "cell_type": "markdown",
   "id": "1193d156",
   "metadata": {},
   "source": [
    "- *'time'* should be changed to datetime, as it represents time."
   ]
  },
  {
   "cell_type": "markdown",
   "id": "cb975f85",
   "metadata": {},
   "source": [
    "## df_weather"
   ]
  },
  {
   "cell_type": "code",
   "execution_count": 7,
   "id": "f683ce6c",
   "metadata": {
    "ExecuteTime": {
     "end_time": "2023-07-23T21:06:10.494828Z",
     "start_time": "2023-07-23T21:06:10.486954Z"
    }
   },
   "outputs": [],
   "source": [
    "print(df_weather.head())"
   ]
  },
  {
   "cell_type": "markdown",
   "id": "b93382f6",
   "metadata": {},
   "source": [
    "- temp is measured in Kelvin.\n",
    "- *rain_1h, rain_3h, snow_3h, clouds_all* seem to have all zero values."
   ]
  },
  {
   "cell_type": "code",
   "execution_count": 8,
   "id": "a30d6cfe",
   "metadata": {
    "ExecuteTime": {
     "end_time": "2023-07-23T21:06:11.059810Z",
     "start_time": "2023-07-23T21:06:11.051036Z"
    }
   },
   "outputs": [],
   "source": [
    "df_weather.shape"
   ]
  },
  {
   "cell_type": "code",
   "execution_count": 9,
   "id": "a3fc985f",
   "metadata": {
    "ExecuteTime": {
     "end_time": "2023-07-23T21:06:11.409928Z",
     "start_time": "2023-07-23T21:06:11.380631Z"
    }
   },
   "outputs": [],
   "source": [
    "df_weather.info()"
   ]
  },
  {
   "cell_type": "markdown",
   "id": "42da9863",
   "metadata": {},
   "source": [
    "- df_weather has no null values."
   ]
  },
  {
   "cell_type": "markdown",
   "id": "948aaf94",
   "metadata": {},
   "source": [
    "# Missing Values "
   ]
  },
  {
   "cell_type": "markdown",
   "id": "3b9d8978",
   "metadata": {},
   "source": [
    "## df_energy"
   ]
  },
  {
   "cell_type": "code",
   "execution_count": 10,
   "id": "bd33e529",
   "metadata": {
    "ExecuteTime": {
     "end_time": "2023-07-23T21:06:12.639173Z",
     "start_time": "2023-07-23T21:06:12.630883Z"
    }
   },
   "outputs": [],
   "source": [
    "df_energy.isnull().sum()"
   ]
  },
  {
   "cell_type": "markdown",
   "id": "6cb4051d",
   "metadata": {},
   "source": [
    "- All the records for *'generation hydro pumped storage aggregated'* & *'forecast wind offshore eday ahead'* contain null values. Therefore, the entire columns must be dropped."
   ]
  },
  {
   "cell_type": "code",
   "execution_count": 11,
   "id": "ca13d804",
   "metadata": {
    "ExecuteTime": {
     "end_time": "2023-07-23T21:06:13.553932Z",
     "start_time": "2023-07-23T21:06:13.540645Z"
    }
   },
   "outputs": [],
   "source": [
    "# count the frequency of missing values in each row (i.e. how many columns are empty)\n",
    "print(df_energy.isnull().sum(axis=1).value_counts())"
   ]
  },
  {
   "cell_type": "markdown",
   "id": "039a3e01",
   "metadata": {},
   "source": [
    "- Almost all the rows, have 2 null columns."
   ]
  },
  {
   "cell_type": "markdown",
   "id": "5560a092",
   "metadata": {},
   "source": [
    "## df_weather"
   ]
  },
  {
   "cell_type": "code",
   "execution_count": 12,
   "id": "32d894bf",
   "metadata": {
    "ExecuteTime": {
     "end_time": "2023-07-23T21:06:14.855814Z",
     "start_time": "2023-07-23T21:06:14.830987Z"
    }
   },
   "outputs": [],
   "source": [
    "df_weather.isnull().sum()"
   ]
  },
  {
   "cell_type": "markdown",
   "id": "7245c0f7",
   "metadata": {},
   "source": [
    "- No missing values in df_weather."
   ]
  },
  {
   "cell_type": "markdown",
   "id": "48de9d4b",
   "metadata": {},
   "source": [
    "# Invalid Data"
   ]
  },
  {
   "cell_type": "markdown",
   "id": "d619ba57",
   "metadata": {},
   "source": [
    "## df_energy"
   ]
  },
  {
   "cell_type": "code",
   "execution_count": 13,
   "id": "8150cfe3",
   "metadata": {
    "ExecuteTime": {
     "end_time": "2023-07-23T21:06:16.236144Z",
     "start_time": "2023-07-23T21:06:16.180910Z"
    },
    "scrolled": true
   },
   "outputs": [],
   "source": [
    "# get the unique values count for each column\n",
    "for column in df_energy.columns:\n",
    "    print(df_energy[column].value_counts())\n",
    "    print('-'*20)"
   ]
  },
  {
   "cell_type": "markdown",
   "id": "df672a2f",
   "metadata": {},
   "source": [
    "- Columns of *'generation fossil coal-derived gas', 'generation fossil oil shale', 'generation fossil peat', 'generation geothermal', 'generation marine', 'generation wind offshore'* have all record values as zero."
   ]
  },
  {
   "cell_type": "code",
   "execution_count": 14,
   "id": "50a8f154",
   "metadata": {
    "ExecuteTime": {
     "end_time": "2023-07-23T21:06:16.887102Z",
     "start_time": "2023-07-23T21:06:16.870740Z"
    }
   },
   "outputs": [],
   "source": [
    "# count the negative values for each numeric column\n",
    "print((df_energy.select_dtypes(include='number') < 0).sum())"
   ]
  },
  {
   "cell_type": "markdown",
   "id": "23408fd7",
   "metadata": {},
   "source": [
    "- No columns contain negative values."
   ]
  },
  {
   "cell_type": "markdown",
   "id": "46971388",
   "metadata": {},
   "source": [
    "## df_weather"
   ]
  },
  {
   "cell_type": "code",
   "execution_count": 15,
   "id": "fc471397",
   "metadata": {
    "ExecuteTime": {
     "end_time": "2023-07-23T21:06:17.921182Z",
     "start_time": "2023-07-23T21:06:17.838243Z"
    },
    "scrolled": true
   },
   "outputs": [],
   "source": [
    "# get the unique values count for each column\n",
    "for column in df_weather.columns:\n",
    "    print(df_weather[column].value_counts())\n",
    "    print('-'*20)"
   ]
  },
  {
   "cell_type": "markdown",
   "id": "ee3ba9e2",
   "metadata": {},
   "source": [
    "- weather_id seems to match with weather_description.\n",
    "- weather_icon represents the id of the display icon used."
   ]
  },
  {
   "cell_type": "code",
   "execution_count": 16,
   "id": "c8240db3",
   "metadata": {
    "ExecuteTime": {
     "end_time": "2023-07-23T21:06:18.331601Z",
     "start_time": "2023-07-23T21:06:18.313558Z"
    }
   },
   "outputs": [],
   "source": [
    "# count the zero values for each numeric column\n",
    "print((df_weather.select_dtypes(include='number') < 0).sum())"
   ]
  },
  {
   "cell_type": "markdown",
   "id": "cb581090",
   "metadata": {},
   "source": [
    "- no columns with negative values in df_weather."
   ]
  },
  {
   "cell_type": "code",
   "execution_count": 17,
   "id": "46262b95",
   "metadata": {
    "ExecuteTime": {
     "end_time": "2023-07-23T21:06:18.757066Z",
     "start_time": "2023-07-23T21:06:18.741967Z"
    }
   },
   "outputs": [],
   "source": [
    "print((df_weather.select_dtypes(include='number') == 0).sum()/df_weather.shape[0])"
   ]
  },
  {
   "cell_type": "markdown",
   "id": "e1f7f8d9",
   "metadata": {},
   "source": [
    "- almost all columns in rain_1h, rain_3h, snow_3h contain >89% zero values.\n",
    "- clouds_all having zero value means clear sky. (not dropping for now)"
   ]
  },
  {
   "cell_type": "markdown",
   "id": "0ec3f689",
   "metadata": {},
   "source": [
    "# Data Preparation"
   ]
  },
  {
   "cell_type": "markdown",
   "id": "92b5210b",
   "metadata": {},
   "source": [
    "## df_energy"
   ]
  },
  {
   "cell_type": "code",
   "execution_count": 18,
   "id": "0bc839e4",
   "metadata": {
    "ExecuteTime": {
     "end_time": "2023-07-23T21:06:19.638961Z",
     "start_time": "2023-07-23T21:06:19.630808Z"
    }
   },
   "outputs": [],
   "source": [
    "# drop columns with all null values\n",
    "columns_to_drop = ['generation hydro pumped storage aggregated', 'forecast wind offshore eday ahead']\n",
    "df_energy.drop(columns_to_drop, axis=1, inplace=True)"
   ]
  },
  {
   "cell_type": "code",
   "execution_count": 19,
   "id": "85df04dc",
   "metadata": {
    "ExecuteTime": {
     "end_time": "2023-07-23T21:06:19.848959Z",
     "start_time": "2023-07-23T21:06:19.840978Z"
    }
   },
   "outputs": [],
   "source": [
    "df_energy.isnull().sum()"
   ]
  },
  {
   "cell_type": "code",
   "execution_count": 20,
   "id": "8c6833c5",
   "metadata": {
    "ExecuteTime": {
     "end_time": "2023-07-23T21:06:20.080907Z",
     "start_time": "2023-07-23T21:06:20.070791Z"
    }
   },
   "outputs": [],
   "source": [
    "# count the frequency of missing values in each row (i.e. how many columns are empty)\n",
    "print(df_energy.isnull().sum(axis=1).value_counts())"
   ]
  },
  {
   "cell_type": "code",
   "execution_count": 21,
   "id": "6ae0a9e5",
   "metadata": {
    "ExecuteTime": {
     "end_time": "2023-07-23T21:06:20.285601Z",
     "start_time": "2023-07-23T21:06:20.270615Z"
    }
   },
   "outputs": [],
   "source": [
    "# drop columns with all zero values\n",
    "columns_to_drop = ['generation fossil coal-derived gas', 'generation fossil oil shale', 'generation fossil peat', \n",
    "                   'generation geothermal', 'generation marine', 'generation wind offshore' ]\n",
    "df_energy.drop(columns_to_drop, axis=1, inplace=True)"
   ]
  },
  {
   "cell_type": "code",
   "execution_count": 22,
   "id": "4d82f57f",
   "metadata": {
    "ExecuteTime": {
     "end_time": "2023-07-23T21:06:20.482115Z",
     "start_time": "2023-07-23T21:06:20.470980Z"
    }
   },
   "outputs": [],
   "source": [
    "# count the frequency of missing values in each row (i.e. how many columns are empty)\n",
    "print(df_energy.isnull().sum(axis=1).value_counts())"
   ]
  },
  {
   "cell_type": "code",
   "execution_count": 23,
   "id": "ac0350e0",
   "metadata": {
    "ExecuteTime": {
     "end_time": "2023-07-23T21:06:20.687343Z",
     "start_time": "2023-07-23T21:06:20.670733Z"
    }
   },
   "outputs": [],
   "source": [
    "# remove the rows having null values\n",
    "df_energy = df_energy.dropna()"
   ]
  },
  {
   "cell_type": "code",
   "execution_count": 24,
   "id": "de72885b",
   "metadata": {
    "ExecuteTime": {
     "end_time": "2023-07-23T21:06:20.868601Z",
     "start_time": "2023-07-23T21:06:20.854644Z"
    }
   },
   "outputs": [],
   "source": [
    "# count the frequency of missing values in each row (i.e. how many columns are empty)\n",
    "print(df_energy.isnull().sum(axis=1).value_counts())"
   ]
  },
  {
   "cell_type": "code",
   "execution_count": 25,
   "id": "696eebd2",
   "metadata": {
    "ExecuteTime": {
     "end_time": "2023-07-23T21:06:21.061577Z",
     "start_time": "2023-07-23T21:06:21.050955Z"
    }
   },
   "outputs": [],
   "source": [
    "df_energy['time']"
   ]
  },
  {
   "cell_type": "code",
   "execution_count": 26,
   "id": "1da8951a",
   "metadata": {
    "ExecuteTime": {
     "end_time": "2023-07-23T21:06:21.421427Z",
     "start_time": "2023-07-23T21:06:21.260576Z"
    }
   },
   "outputs": [],
   "source": [
    "# Convert the column from string to datetime\n",
    "df_energy['time'] = pd.to_datetime(df_energy['time'], utc=True) # datetime values that are explicitly in UTC"
   ]
  },
  {
   "cell_type": "markdown",
   "id": "81dbb833",
   "metadata": {},
   "source": [
    "- We have taken care of all the missing and invalid datatypes and values. "
   ]
  },
  {
   "cell_type": "markdown",
   "id": "04f1eb7c",
   "metadata": {},
   "source": [
    "## df_weather"
   ]
  },
  {
   "cell_type": "code",
   "execution_count": 27,
   "id": "9ae45595",
   "metadata": {
    "ExecuteTime": {
     "end_time": "2023-07-23T21:06:22.552534Z",
     "start_time": "2023-07-23T21:06:22.531639Z"
    }
   },
   "outputs": [],
   "source": [
    "# 1. drop the columns with almost all zero values and icon\n",
    "df_weather.drop(['rain_1h', 'rain_3h', 'snow_3h', 'weather_icon'], axis=1, inplace=True)"
   ]
  },
  {
   "cell_type": "code",
   "execution_count": 28,
   "id": "c40adfcb",
   "metadata": {
    "ExecuteTime": {
     "end_time": "2023-07-23T21:06:22.844800Z",
     "start_time": "2023-07-23T21:06:22.780646Z"
    }
   },
   "outputs": [],
   "source": [
    "# count the frequency of missing values in each row (i.e. how many columns are empty)\n",
    "print(sum((df_weather.select_dtypes(include='number') == 0).sum(axis=1)==1))\n",
    "\n",
    "# get the indices\n",
    "indices = df_weather.index[(df_weather.select_dtypes(include='number') == 0).sum(axis=1)==1]\n",
    "temp = df_weather.iloc[indices]\n",
    "# count the zero values for each numeric column\n",
    "print((temp.select_dtypes(include='number') == 0).sum())"
   ]
  },
  {
   "cell_type": "code",
   "execution_count": 29,
   "id": "917e85ef",
   "metadata": {
    "ExecuteTime": {
     "end_time": "2023-07-23T21:06:23.133470Z",
     "start_time": "2023-07-23T21:06:23.126327Z"
    }
   },
   "outputs": [],
   "source": [
    "df_weather.columns"
   ]
  },
  {
   "cell_type": "code",
   "execution_count": 30,
   "id": "099544f3",
   "metadata": {
    "ExecuteTime": {
     "end_time": "2023-07-23T21:06:23.469975Z",
     "start_time": "2023-07-23T21:06:23.460866Z"
    }
   },
   "outputs": [],
   "source": [
    "for i in df_weather.columns:\n",
    "    print(i,': ',type(df_weather[i][0]))"
   ]
  },
  {
   "cell_type": "code",
   "execution_count": 31,
   "id": "150576df",
   "metadata": {
    "ExecuteTime": {
     "end_time": "2023-07-23T21:06:24.321449Z",
     "start_time": "2023-07-23T21:06:23.681040Z"
    }
   },
   "outputs": [],
   "source": [
    "# 2. Convert the column from string to datetime\n",
    "df_weather['dt_iso'] = pd.to_datetime(df_weather['dt_iso'], utc=True)"
   ]
  },
  {
   "cell_type": "code",
   "execution_count": 32,
   "id": "969fb394",
   "metadata": {
    "ExecuteTime": {
     "end_time": "2023-07-23T21:06:24.573480Z",
     "start_time": "2023-07-23T21:06:24.527340Z"
    }
   },
   "outputs": [],
   "source": [
    "# 3. trim the string values in city_name\n",
    "print(df_weather['city_name'].value_counts())\n",
    "df_weather['city_name'] = df_weather['city_name'].str.strip()\n",
    "print(df_weather['city_name'].value_counts())"
   ]
  },
  {
   "cell_type": "markdown",
   "id": "76b03a9f",
   "metadata": {},
   "source": [
    "# Merge two datasets"
   ]
  },
  {
   "cell_type": "code",
   "execution_count": 33,
   "id": "1113cef1",
   "metadata": {
    "ExecuteTime": {
     "end_time": "2023-07-23T21:06:25.524635Z",
     "start_time": "2023-07-23T21:06:25.519310Z"
    }
   },
   "outputs": [],
   "source": [
    "df_energy.columns"
   ]
  },
  {
   "cell_type": "code",
   "execution_count": 34,
   "id": "0a9a36f2",
   "metadata": {
    "ExecuteTime": {
     "end_time": "2023-07-23T21:06:26.029000Z",
     "start_time": "2023-07-23T21:06:26.020872Z"
    }
   },
   "outputs": [],
   "source": [
    "df_weather.columns"
   ]
  },
  {
   "cell_type": "code",
   "execution_count": 35,
   "id": "e19e7e47",
   "metadata": {
    "ExecuteTime": {
     "end_time": "2023-07-23T21:06:27.357996Z",
     "start_time": "2023-07-23T21:06:27.350820Z"
    }
   },
   "outputs": [],
   "source": [
    "df_weather['dt_iso']"
   ]
  },
  {
   "cell_type": "code",
   "execution_count": 36,
   "id": "f2aaae01",
   "metadata": {
    "ExecuteTime": {
     "end_time": "2023-07-23T21:06:28.215416Z",
     "start_time": "2023-07-23T21:06:28.126903Z"
    }
   },
   "outputs": [],
   "source": [
    "# Find duplicate rows in the DataFrame\n",
    "duplicates = df_weather.duplicated()\n",
    "duplicate_rows = df_weather[duplicates]\n",
    "duplicate_rows.shape"
   ]
  },
  {
   "cell_type": "code",
   "execution_count": 37,
   "id": "1b964c2f",
   "metadata": {
    "ExecuteTime": {
     "end_time": "2023-07-23T21:06:28.659186Z",
     "start_time": "2023-07-23T21:06:28.644532Z"
    }
   },
   "outputs": [],
   "source": [
    "df_weather['city_name'].value_counts()"
   ]
  },
  {
   "cell_type": "markdown",
   "id": "d60e95c7",
   "metadata": {},
   "source": [
    "- df_energy and df_weather cannot be merged yet. There are many duplicates for every city in df_weather and we should drop them and see if their number of rows match."
   ]
  },
  {
   "cell_type": "code",
   "execution_count": 38,
   "id": "0e2e27fe",
   "metadata": {
    "ExecuteTime": {
     "end_time": "2023-07-23T21:06:29.439789Z",
     "start_time": "2023-07-23T21:06:29.394833Z"
    }
   },
   "outputs": [],
   "source": [
    "df_weather.drop_duplicates(subset=['dt_iso', 'city_name'], keep='first', inplace=True)\n",
    "df_weather['city_name'].value_counts()"
   ]
  },
  {
   "cell_type": "code",
   "execution_count": 39,
   "id": "58fe087c",
   "metadata": {
    "ExecuteTime": {
     "end_time": "2023-07-23T21:06:29.767257Z",
     "start_time": "2023-07-23T21:06:29.740853Z"
    }
   },
   "outputs": [],
   "source": [
    "df_weather.duplicated(subset=['dt_iso', 'city_name'], keep='first').sum()"
   ]
  },
  {
   "cell_type": "markdown",
   "id": "a68ab087",
   "metadata": {},
   "source": [
    "- we have zero duplicates in df_weather"
   ]
  },
  {
   "cell_type": "code",
   "execution_count": 40,
   "id": "a79a30a2",
   "metadata": {
    "ExecuteTime": {
     "end_time": "2023-07-23T21:06:34.823248Z",
     "start_time": "2023-07-23T21:06:34.774306Z"
    }
   },
   "outputs": [],
   "source": [
    "# join the two datasets on time and date_iso\n",
    "merged_df = pd.merge(df_energy, df_weather, left_on='time', right_on='dt_iso', how='inner')"
   ]
  },
  {
   "cell_type": "code",
   "execution_count": 41,
   "id": "e8383ee8",
   "metadata": {
    "ExecuteTime": {
     "end_time": "2023-07-23T21:06:35.116779Z",
     "start_time": "2023-07-23T21:06:35.100900Z"
    }
   },
   "outputs": [],
   "source": [
    "pd.set_option('display.max_columns', None) \n",
    "print(merged_df.head())"
   ]
  },
  {
   "cell_type": "code",
   "execution_count": 42,
   "id": "eda303a9",
   "metadata": {
    "ExecuteTime": {
     "end_time": "2023-07-23T21:06:35.543881Z",
     "start_time": "2023-07-23T21:06:35.515446Z"
    }
   },
   "outputs": [],
   "source": [
    "merged_df.info()"
   ]
  },
  {
   "cell_type": "code",
   "execution_count": 43,
   "id": "626b298b",
   "metadata": {
    "ExecuteTime": {
     "end_time": "2023-07-23T21:06:36.147226Z",
     "start_time": "2023-07-23T21:06:36.120848Z"
    }
   },
   "outputs": [],
   "source": [
    "# drop duplicate dt_iso column\n",
    "merged_df.drop(['dt_iso'], axis=1, inplace=True)"
   ]
  },
  {
   "cell_type": "code",
   "execution_count": 44,
   "id": "baf30821",
   "metadata": {
    "ExecuteTime": {
     "end_time": "2023-07-23T21:06:39.244519Z",
     "start_time": "2023-07-23T21:06:36.790905Z"
    }
   },
   "outputs": [],
   "source": [
    "# save the dataframe as csv\n",
    "merged_df.to_csv('data/df.csv', index=False)"
   ]
  }
 ],
 "metadata": {
  "kernelspec": {
   "display_name": "electricity",
   "language": "python",
   "name": "electricity"
  },
  "language_info": {
   "codemirror_mode": {
    "name": "ipython",
    "version": 3
   },
   "file_extension": ".py",
   "mimetype": "text/x-python",
   "name": "python",
   "nbconvert_exporter": "python",
   "pygments_lexer": "ipython3",
   "version": "3.11.4"
  }
 },
 "nbformat": 4,
 "nbformat_minor": 5
}
